{
 "cells": [
  {
   "cell_type": "code",
   "execution_count": 37,
   "id": "3895abcb",
   "metadata": {},
   "outputs": [],
   "source": [
    "import pandas as pd\n",
    "import numpy as np\n",
    "import matplotlib.pyplot as plt\n",
    "import seaborn as sns\n",
    "from scipy.stats import norm\n",
    "import statistics\n",
    "import math\n",
    "import os, json\n",
    "import pandas as pd\n",
    "from glob import glob\n",
    "import weighted\n",
    "from scipy.stats import median_abs_deviation as mad"
   ]
  },
  {
   "cell_type": "code",
   "execution_count": 2,
   "id": "91bc710e",
   "metadata": {},
   "outputs": [
    {
     "name": "stdout",
     "output_type": "stream",
     "text": [
      "['RXZlbnRJbmZvcm1hdGlvbjo0OWQ4M2I3MS1kNDZmLTRiYjMtODJkYy1kMTE0MDg4OTBkOGQ=.json', 'RXZlbnRJbmZvcm1hdGlvbjo0YmI3ZDc5YS0wNzMwLTQ0MTUtYjFmOC0xMDdlNWI0ODNhY2Y=.json', 'RXZlbnRJbmZvcm1hdGlvbjo0ZTBhMDVhOC0wZmI2LTQ2MGMtYmRiNC1jMWRlZGI5MmM3M2M=.json', 'RXZlbnRJbmZvcm1hdGlvbjo1NGEwMTg2My01NDhjLTRhYTctYjA4YS01ZjZmMGUzNmZjMjc=.json', 'RXZlbnRJbmZvcm1hdGlvbjo1YzQwMzE4MS1lNzhkLTQ3NzMtOWI2Zi02YzcwODkzMDU1NGQ=.json', 'RXZlbnRJbmZvcm1hdGlvbjo1ZWQyODcxZS0wYTI1LTQxMWUtOGQ0My0xOTRiZjI3ZDc4ZDA=.json', 'RXZlbnRJbmZvcm1hdGlvbjo2MGIxMzM3My03NmIwLTRhZTktYjRiYS0wNDcwMDY1NWU2YWQ=.json', 'RXZlbnRJbmZvcm1hdGlvbjo2MWE0NzMzZS02NTkzLTRlNmQtOGIxMy0yMWUwZjFiNWE1ZWM=.json', 'RXZlbnRJbmZvcm1hdGlvbjo2ZGEzODliYy02M2I1LTRmNzUtODZhYi0zMDBlY2Y4ZWVmYWI=.json', 'RXZlbnRJbmZvcm1hdGlvbjo2ZjYwZTlhNC05OWNhLTRlODAtYTAwYS05MjFlZjlmNWUyMzI=.json', 'RXZlbnRJbmZvcm1hdGlvbjo3NDBjM2U2OS0wOWZjLTQ2ODQtYTljMy05MTRiMzI0N2RiOWY=.json', 'RXZlbnRJbmZvcm1hdGlvbjo3NjhhZDFlMi02NzIyLTQyYjQtOWJkOC00ZjQ3YjE4ODU1MGM=.json', 'RXZlbnRJbmZvcm1hdGlvbjo3YjBhOWUzYi02MDk3LTRiZWUtYTU5MC1hZmU5OTg1ZDg1ZmI=.json', 'RXZlbnRJbmZvcm1hdGlvbjo4N2QzZDdiNC1jMDdjLTRmZDgtOWVmMC04OTk2OWUzZDdjMjk=.json', 'RXZlbnRJbmZvcm1hdGlvbjo4ODdhNDk0Ni03MDdhLTQ1OGUtYWZmNi0wYmY0YzhlMTFhNGQ=.json', 'RXZlbnRJbmZvcm1hdGlvbjo4Y2QyYjU0NC1kYmZjLTQzMzQtOTBhZC1kNjE4NTAyOWNjNWQ=.json', 'RXZlbnRJbmZvcm1hdGlvbjo4YTMwNDBjNi01ZjY0LTRhMzgtYTU2My01NWE3MmNjZDVkZTE=.json', 'RXZlbnRJbmZvcm1hdGlvbjo4YWY3NzE3Yi02NjdjLTQyOTgtODI2MC1hZTE1YzExODhhZGM=.json', 'RXZlbnRJbmZvcm1hdGlvbjo4ZjRkZTJkNi1kNmE5LTQzZjctYmEyOC02OWI4ZjBkZmVmMGM=.json', 'RXZlbnRJbmZvcm1hdGlvbjo4ZWM3ODk0MS03YTY5LTQ5NzgtYWRmYi00ZTY1MzRmYzQ2NDk=.json', 'RXZlbnRJbmZvcm1hdGlvbjo5MTE0ZjQ4OS1hZDk2LTRmYzMtYjAxNC01OTQ1MTRlODg5ZTA=.json', 'RXZlbnRJbmZvcm1hdGlvbjo5N2RmZDdhMy1jYjJmLTQ5OWMtYTAxMC1iMTRjMmM3NTAyMmE=.json', 'RXZlbnRJbmZvcm1hdGlvbjo5NzFmODkwYi05NzhjLTRkNzYtYWQ0ZC03YWRmYWJkYTFkYWQ=.json', 'RXZlbnRJbmZvcm1hdGlvbjo5OTJhMTVkYi01ZWI0LTQ5NzUtOTJiNC05ZmY3YjEzMGZhODg=.json', 'RXZlbnRJbmZvcm1hdGlvbjo5ZTgxOGFkMy0zNDM5LTRkM2YtOTBkNS1hN2FiNzBhNGYwN2M=.json', 'RXZlbnRJbmZvcm1hdGlvbjo5ZWVmMmY2My02OTAzLTRjY2MtYmU1ZC04NGY5OWNmNjdmMDc=.json', 'RXZlbnRJbmZvcm1hdGlvbjowM2IxNjU4Zi04NDE0LTQ5YTMtYjZjZi05ZGM2MjZkMDkyYjE=.json', 'RXZlbnRJbmZvcm1hdGlvbjowMTQ1NzEyZC02ZDBmLTQ2MDEtYTdlMS0zZDNhODAwYmU1MzQ=.json', 'RXZlbnRJbmZvcm1hdGlvbjowOWU5ZWRjNS0wNTJiLTRiNTUtOTgzNy1jMDhlODJmNTVhNGU=.json', 'RXZlbnRJbmZvcm1hdGlvbjowZDAwMTNhNS0wMTZjLTQ2YjEtYjRmNy1hOWIxNjA5YjdlMTU=.json', 'RXZlbnRJbmZvcm1hdGlvbjowZjZmY2RjZi01ODBiLTRmMzktODQ4ZS03M2I2MDRiYjhmZWQ=.json', 'RXZlbnRJbmZvcm1hdGlvbjoxMDY3ZWI0OC03NGQ5LTRjYjktYWFiNS01ZWIzYjdjMTI0MmQ=.json', 'RXZlbnRJbmZvcm1hdGlvbjoxMzA0OGZmZC1kYjFiLTRmNzktYTliMC1mNmIyZjJmNzNlYTM=.json', 'RXZlbnRJbmZvcm1hdGlvbjoxOWRjNzUzZC1jYjc5LTQyYTQtYmMxZi0zMzY1NjgxMWE2MGM=.json', 'RXZlbnRJbmZvcm1hdGlvbjoxYTdhNmRkOC1jMDY5LTRlN2EtYTgxZC05MWMwOTliMzlkM2E=.json', 'RXZlbnRJbmZvcm1hdGlvbjoxYzRmMzUwNy1jM2Y4LTQ2MzUtYWFhZC03NDcxNDQzODZlZDU=.json', 'RXZlbnRJbmZvcm1hdGlvbjoyNjVhNzU3MC1iOWM4LTRjNTctYjJmYi1jZGQxNDAxZTdjNTU=.json', 'RXZlbnRJbmZvcm1hdGlvbjoyNmNiMTFlMy1jMTY0LTQ3NjYtYWE3OS01N2MxMDZlMTFmMzU=.json', 'RXZlbnRJbmZvcm1hdGlvbjoyOGIwM2QxOS1mZGI0LTQxMTUtODc4YS1mYjMyOTQzZTVjODM=.json', 'RXZlbnRJbmZvcm1hdGlvbjoyZTM5YWViYS00ODdlLTRiMGYtYjc3Yi1jOTdmNmI3NmFmZTI=.json', 'RXZlbnRJbmZvcm1hdGlvbjozOWE2M2JhYS1lMjcxLTQ2OGMtOTYxZS01ZWYzN2Y2NmIyN2E=.json', 'RXZlbnRJbmZvcm1hdGlvbjphMGU5NzZjZi04ZTBmLTQzYTQtYWJlYy0yOGFiYTBiOWNlOWQ=.json', 'RXZlbnRJbmZvcm1hdGlvbjphNDEwZDExOS05NjliLTQ5NTUtODQxZi05NzlkNDNjN2MyYzQ=.json', 'RXZlbnRJbmZvcm1hdGlvbjphNDQ3OTVlOC1kOGU0LTQyMjEtOGIzNS1lODg1M2ExZGE2YzA=.json', 'RXZlbnRJbmZvcm1hdGlvbjphNGQwNDgzMy0zNmNmLTQ4YjctYWNlOS03OGVjOTg5ZjkyMmY=.json', 'RXZlbnRJbmZvcm1hdGlvbjphOGE5YjUwYS04MjIwLTRlYTYtYmQ0NC00ZmFhMDM5NmJjNWQ=.json', 'RXZlbnRJbmZvcm1hdGlvbjphYTMwYTMzZS1kM2I4LTRkNDAtOWZjNy1mMGVkZTdmNDdlMDg=.json', 'RXZlbnRJbmZvcm1hdGlvbjpiMDc0MWQzYy0zNDJkLTQyNWUtYmI2ZS0xNTkyMmRmMTcyNTg=.json', 'RXZlbnRJbmZvcm1hdGlvbjpiNGExYTVhYy1lYWVmLTRkZmUtOTNiMy03N2IxMmY4MjI1Y2M=.json', 'RXZlbnRJbmZvcm1hdGlvbjpiNGU3MjYyOS0zZjlmLTQ4NmYtYjc3My05YTkzMjNkNzYyYTE=.json', 'RXZlbnRJbmZvcm1hdGlvbjpiYjAwNWEwYS1kYmUzLTQ4YzgtYmUzMy03NjI3OTFmYzExYzI=.json', 'RXZlbnRJbmZvcm1hdGlvbjpjMWQyNGFlMy0xYmRhLTQ3MTUtYThkNC1kZjRjZTQ2YjViYzE=.json', 'RXZlbnRJbmZvcm1hdGlvbjpjNTc2NzE1NC05YTU4LTQ5MTEtYWUyMC1jMWY0YWZhNTdhN2U=.json', 'RXZlbnRJbmZvcm1hdGlvbjpjODg2OTY2Yi0wYjgwLTRmNzItODIzZC1kZDc5ZDVlYjU1N2Q=.json', 'RXZlbnRJbmZvcm1hdGlvbjpjYjU2MmJiYi1mNzhmLTRjN2MtOTQyNi0wYzU3OGNkNGYwMDA=.json', 'RXZlbnRJbmZvcm1hdGlvbjpjYWIyOTFjNy0wMTI3LTQ5MGYtOWQzMC03NWE5MzQxZDdhZDE=.json', 'RXZlbnRJbmZvcm1hdGlvbjpjZWFiNTBjMi00Yzc3LTQ2N2UtYWY3NS0zNmIyMDczNWNkZjE=.json', 'RXZlbnRJbmZvcm1hdGlvbjpkM2Q5ODYzOS00M2Y3LTRkZDktOWRhZi01NDM1NmUxMmIyNGU=.json', 'RXZlbnRJbmZvcm1hdGlvbjpkMWRlMDZiZS0wOGMyLTRkYzEtYWY1YS03YjlmZjNjZjUwNDY=.json', 'RXZlbnRJbmZvcm1hdGlvbjpkOTQ3ZGE0MC03ZTViLTQyNDQtYjNjYy0wNDM0ZjRlNGYzMTE=.json', 'RXZlbnRJbmZvcm1hdGlvbjpkYmQwMzQwOC0wOGVmLTQ0ZWUtYTQxMi1lNmQyOWI0YTcyZDg=.json', 'RXZlbnRJbmZvcm1hdGlvbjplYjI0NjY3NS0zMDYzLTRlYjItYjY2Zi04ZjU2MTJkMDk2YTQ=.json', 'RXZlbnRJbmZvcm1hdGlvbjpmMTM2OTk5MC1lZTdiLTQxMWYtODkzMC1iZjIzMzkzNDM3NTQ=.json', 'RXZlbnRJbmZvcm1hdGlvbjpmNzQ3ODFiZC1iZDZkLTQxODItYWI3OS01ZWQwNDI0OTQ3OGE=.json', 'RXZlbnRJbmZvcm1hdGlvbjpmODZmNDY2MC01NzkxLTQ5ZDgtYTMzNC01OGRkZmQ1ZjcwYTM=.json', 'RXZlbnRJbmZvcm1hdGlvbjpmYjhlYjQzYy1kNWMzLTQyOTAtYTU3MC0yMmU1ODhhYmM4MzU=.json', 'RXZlbnRJbmZvcm1hdGlvbjpmZjhiOWRjOS00MDM1LTQ5ZTctOTM0Ny03NjA5ZTNmMGIyNzQ=.json']\n"
     ]
    }
   ],
   "source": [
    "path_to_json = r'C:\\Users\\pranoy.swain\\OneDrive - TIGER ANALYTICS INDIA CONSULTING PRIVATE LIMITED\\Desktop\\CASE STUDY PIP\\Raw_data (2)\\Raw_data\\VA00000000000017'\n",
    "json_files = [pos_json for pos_json in os.listdir(path_to_json) if pos_json.endswith('.json')]\n",
    "print(json_files)  "
   ]
  },
  {
   "cell_type": "markdown",
   "id": "55fbc519",
   "metadata": {},
   "source": [
    "# Exploratory Data Analysis"
   ]
  },
  {
   "cell_type": "markdown",
   "id": "3a76958c",
   "metadata": {},
   "source": [
    "# Checking Data Distribution of Random files from VA00000000000017 "
   ]
  },
  {
   "cell_type": "code",
   "execution_count": 3,
   "id": "2d8a56c1",
   "metadata": {},
   "outputs": [],
   "source": [
    "va_17 = pd.read_csv(r'C:\\Users\\pranoy.swain\\OneDrive - TIGER ANALYTICS INDIA CONSULTING PRIVATE LIMITED\\Desktop\\CASE STUDY PIP\\Raw_data (2)\\Raw_data\\VA00000000000017\\RXZlbnRJbmZvcm1hdGlvbjo0OWQ4M2I3MS1kNDZmLTRiYjMtODJkYy1kMTE0MDg4OTBkOGQ=.csv')\n"
   ]
  },
  {
   "cell_type": "code",
   "execution_count": 4,
   "id": "4925c44f",
   "metadata": {},
   "outputs": [
    {
     "name": "stdout",
     "output_type": "stream",
     "text": [
      "AxesSubplot(0.125,0.125;0.775x0.755)\n"
     ]
    },
    {
     "name": "stderr",
     "output_type": "stream",
     "text": [
      "C:\\Users\\pranoy.swain\\Anaconda3\\lib\\site-packages\\seaborn\\distributions.py:2619: FutureWarning: `distplot` is a deprecated function and will be removed in a future version. Please adapt your code to use either `displot` (a figure-level function with similar flexibility) or `histplot` (an axes-level function for histograms).\n",
      "  warnings.warn(msg, FutureWarning)\n"
     ]
    },
    {
     "data": {
      "image/png": "[encoded data removed]",
      "text/plain": [
       "<Figure size 432x288 with 1 Axes>"
      ]
     },
     "metadata": {
      "needs_background": "light"
     },
     "output_type": "display_data"
    }
   ],
   "source": [
    "print(sns.distplot(va_17['sum'], kde= False, bins= 10))"
   ]
  },
  {
   "cell_type": "code",
   "execution_count": 5,
   "id": "ea356a16",
   "metadata": {},
   "outputs": [
    {
     "data": {
      "text/html": [
       "<div>\n",
       "<style scoped>\n",
       "    .dataframe tbody tr th:only-of-type {\n",
       "        vertical-align: middle;\n",
       "    }\n",
       "\n",
       "    .dataframe tbody tr th {\n",
       "        vertical-align: top;\n",
       "    }\n",
       "\n",
       "    .dataframe thead th {\n",
       "        text-align: right;\n",
       "    }\n",
       "</style>\n",
       "<table border=\"1\" class=\"dataframe\">\n",
       "  <thead>\n",
       "    <tr style=\"text-align: right;\">\n",
       "      <th></th>\n",
       "      <th>lc0</th>\n",
       "      <th>lc1</th>\n",
       "      <th>lc2</th>\n",
       "      <th>lc3</th>\n",
       "      <th>timestamp</th>\n",
       "      <th>sum</th>\n",
       "    </tr>\n",
       "  </thead>\n",
       "  <tbody>\n",
       "    <tr>\n",
       "      <th>lc0</th>\n",
       "      <td>1.000000</td>\n",
       "      <td>0.898210</td>\n",
       "      <td>0.909264</td>\n",
       "      <td>0.719814</td>\n",
       "      <td>-0.776703</td>\n",
       "      <td>0.978473</td>\n",
       "    </tr>\n",
       "    <tr>\n",
       "      <th>lc1</th>\n",
       "      <td>0.898210</td>\n",
       "      <td>1.000000</td>\n",
       "      <td>0.866022</td>\n",
       "      <td>0.486141</td>\n",
       "      <td>-0.695311</td>\n",
       "      <td>0.930053</td>\n",
       "    </tr>\n",
       "    <tr>\n",
       "      <th>lc2</th>\n",
       "      <td>0.909264</td>\n",
       "      <td>0.866022</td>\n",
       "      <td>1.000000</td>\n",
       "      <td>0.818268</td>\n",
       "      <td>-0.763646</td>\n",
       "      <td>0.966803</td>\n",
       "    </tr>\n",
       "    <tr>\n",
       "      <th>lc3</th>\n",
       "      <td>0.719814</td>\n",
       "      <td>0.486141</td>\n",
       "      <td>0.818268</td>\n",
       "      <td>1.000000</td>\n",
       "      <td>-0.666179</td>\n",
       "      <td>0.760978</td>\n",
       "    </tr>\n",
       "    <tr>\n",
       "      <th>timestamp</th>\n",
       "      <td>-0.776703</td>\n",
       "      <td>-0.695311</td>\n",
       "      <td>-0.763646</td>\n",
       "      <td>-0.666179</td>\n",
       "      <td>1.000000</td>\n",
       "      <td>-0.788728</td>\n",
       "    </tr>\n",
       "    <tr>\n",
       "      <th>sum</th>\n",
       "      <td>0.978473</td>\n",
       "      <td>0.930053</td>\n",
       "      <td>0.966803</td>\n",
       "      <td>0.760978</td>\n",
       "      <td>-0.788728</td>\n",
       "      <td>1.000000</td>\n",
       "    </tr>\n",
       "  </tbody>\n",
       "</table>\n",
       "</div>"
      ],
      "text/plain": [
       "                lc0       lc1       lc2       lc3  timestamp       sum\n",
       "lc0        1.000000  0.898210  0.909264  0.719814  -0.776703  0.978473\n",
       "lc1        0.898210  1.000000  0.866022  0.486141  -0.695311  0.930053\n",
       "lc2        0.909264  0.866022  1.000000  0.818268  -0.763646  0.966803\n",
       "lc3        0.719814  0.486141  0.818268  1.000000  -0.666179  0.760978\n",
       "timestamp -0.776703 -0.695311 -0.763646 -0.666179   1.000000 -0.788728\n",
       "sum        0.978473  0.930053  0.966803  0.760978  -0.788728  1.000000"
      ]
     },
     "execution_count": 5,
     "metadata": {},
     "output_type": "execute_result"
    }
   ],
   "source": [
    "va_17.corr( method='pearson')"
   ]
  },
  {
   "cell_type": "code",
   "execution_count": 6,
   "id": "8104308a",
   "metadata": {},
   "outputs": [
    {
     "name": "stderr",
     "output_type": "stream",
     "text": [
      "C:\\Users\\pranoy.swain\\Anaconda3\\lib\\site-packages\\seaborn\\_decorators.py:36: FutureWarning: Pass the following variables as keyword args: x, y. From version 0.12, the only valid positional argument will be `data`, and passing other arguments without an explicit keyword will result in an error or misinterpretation.\n",
      "  warnings.warn(\n"
     ]
    },
    {
     "data": {
      "text/plain": [
       "<AxesSubplot:xlabel='timestamp', ylabel='sum'>"
      ]
     },
     "execution_count": 6,
     "metadata": {},
     "output_type": "execute_result"
    },
    {
     "data": {
      "image/png": "[encoded data removed]",
      "text/plain": [
       "<Figure size 432x288 with 1 Axes>"
      ]
     },
     "metadata": {
      "needs_background": "light"
     },
     "output_type": "display_data"
    }
   ],
   "source": [
    "sns.scatterplot(va_17['timestamp'], va_17['sum'])"
   ]
  },
  {
   "cell_type": "code",
   "execution_count": 19,
   "id": "8d4a3129",
   "metadata": {},
   "outputs": [],
   "source": [
    "sns.set(rc={'figure.figsize':(20.7,10.27)})"
   ]
  },
  {
   "cell_type": "code",
   "execution_count": 20,
   "id": "a170a073",
   "metadata": {},
   "outputs": [
    {
     "name": "stderr",
     "output_type": "stream",
     "text": [
      "C:\\Users\\pranoy.swain\\Anaconda3\\lib\\site-packages\\seaborn\\distributions.py:2619: FutureWarning: `distplot` is a deprecated function and will be removed in a future version. Please adapt your code to use either `displot` (a figure-level function with similar flexibility) or `histplot` (an axes-level function for histograms).\n",
      "  warnings.warn(msg, FutureWarning)\n",
      "C:\\Users\\pranoy.swain\\Anaconda3\\lib\\site-packages\\seaborn\\distributions.py:2619: FutureWarning: `distplot` is a deprecated function and will be removed in a future version. Please adapt your code to use either `displot` (a figure-level function with similar flexibility) or `histplot` (an axes-level function for histograms).\n",
      "  warnings.warn(msg, FutureWarning)\n",
      "C:\\Users\\pranoy.swain\\Anaconda3\\lib\\site-packages\\seaborn\\distributions.py:2619: FutureWarning: `distplot` is a deprecated function and will be removed in a future version. Please adapt your code to use either `displot` (a figure-level function with similar flexibility) or `histplot` (an axes-level function for histograms).\n",
      "  warnings.warn(msg, FutureWarning)\n",
      "C:\\Users\\pranoy.swain\\Anaconda3\\lib\\site-packages\\seaborn\\distributions.py:2619: FutureWarning: `distplot` is a deprecated function and will be removed in a future version. Please adapt your code to use either `displot` (a figure-level function with similar flexibility) or `histplot` (an axes-level function for histograms).\n",
      "  warnings.warn(msg, FutureWarning)\n",
      "C:\\Users\\pranoy.swain\\Anaconda3\\lib\\site-packages\\seaborn\\distributions.py:2619: FutureWarning: `distplot` is a deprecated function and will be removed in a future version. Please adapt your code to use either `displot` (a figure-level function with similar flexibility) or `histplot` (an axes-level function for histograms).\n",
      "  warnings.warn(msg, FutureWarning)\n",
      "C:\\Users\\pranoy.swain\\Anaconda3\\lib\\site-packages\\seaborn\\distributions.py:2619: FutureWarning: `distplot` is a deprecated function and will be removed in a future version. Please adapt your code to use either `displot` (a figure-level function with similar flexibility) or `histplot` (an axes-level function for histograms).\n",
      "  warnings.warn(msg, FutureWarning)\n",
      "C:\\Users\\pranoy.swain\\Anaconda3\\lib\\site-packages\\seaborn\\distributions.py:2619: FutureWarning: `distplot` is a deprecated function and will be removed in a future version. Please adapt your code to use either `displot` (a figure-level function with similar flexibility) or `histplot` (an axes-level function for histograms).\n",
      "  warnings.warn(msg, FutureWarning)\n",
      "C:\\Users\\pranoy.swain\\Anaconda3\\lib\\site-packages\\seaborn\\distributions.py:2619: FutureWarning: `distplot` is a deprecated function and will be removed in a future version. Please adapt your code to use either `displot` (a figure-level function with similar flexibility) or `histplot` (an axes-level function for histograms).\n",
      "  warnings.warn(msg, FutureWarning)\n"
     ]
    },
    {
     "name": "stdout",
     "output_type": "stream",
     "text": [
      "AxesSubplot(0.125,0.125;0.775x0.755)\n",
      "AxesSubplot(0.125,0.125;0.775x0.755)\n",
      "AxesSubplot(0.125,0.125;0.775x0.755)\n",
      "AxesSubplot(0.125,0.125;0.775x0.755)\n",
      "AxesSubplot(0.125,0.125;0.775x0.755)\n",
      "AxesSubplot(0.125,0.125;0.775x0.755)\n",
      "AxesSubplot(0.125,0.125;0.775x0.755)\n",
      "AxesSubplot(0.125,0.125;0.775x0.755)\n"
     ]
    },
    {
     "name": "stderr",
     "output_type": "stream",
     "text": [
      "C:\\Users\\pranoy.swain\\Anaconda3\\lib\\site-packages\\seaborn\\distributions.py:2619: FutureWarning: `distplot` is a deprecated function and will be removed in a future version. Please adapt your code to use either `displot` (a figure-level function with similar flexibility) or `histplot` (an axes-level function for histograms).\n",
      "  warnings.warn(msg, FutureWarning)\n",
      "C:\\Users\\pranoy.swain\\Anaconda3\\lib\\site-packages\\seaborn\\distributions.py:2619: FutureWarning: `distplot` is a deprecated function and will be removed in a future version. Please adapt your code to use either `displot` (a figure-level function with similar flexibility) or `histplot` (an axes-level function for histograms).\n",
      "  warnings.warn(msg, FutureWarning)\n",
      "C:\\Users\\pranoy.swain\\Anaconda3\\lib\\site-packages\\seaborn\\distributions.py:2619: FutureWarning: `distplot` is a deprecated function and will be removed in a future version. Please adapt your code to use either `displot` (a figure-level function with similar flexibility) or `histplot` (an axes-level function for histograms).\n",
      "  warnings.warn(msg, FutureWarning)\n",
      "C:\\Users\\pranoy.swain\\Anaconda3\\lib\\site-packages\\seaborn\\distributions.py:2619: FutureWarning: `distplot` is a deprecated function and will be removed in a future version. Please adapt your code to use either `displot` (a figure-level function with similar flexibility) or `histplot` (an axes-level function for histograms).\n",
      "  warnings.warn(msg, FutureWarning)\n",
      "C:\\Users\\pranoy.swain\\Anaconda3\\lib\\site-packages\\seaborn\\distributions.py:2619: FutureWarning: `distplot` is a deprecated function and will be removed in a future version. Please adapt your code to use either `displot` (a figure-level function with similar flexibility) or `histplot` (an axes-level function for histograms).\n",
      "  warnings.warn(msg, FutureWarning)\n",
      "C:\\Users\\pranoy.swain\\Anaconda3\\lib\\site-packages\\seaborn\\distributions.py:2619: FutureWarning: `distplot` is a deprecated function and will be removed in a future version. Please adapt your code to use either `displot` (a figure-level function with similar flexibility) or `histplot` (an axes-level function for histograms).\n",
      "  warnings.warn(msg, FutureWarning)\n"
     ]
    },
    {
     "name": "stdout",
     "output_type": "stream",
     "text": [
      "AxesSubplot(0.125,0.125;0.775x0.755)\n",
      "AxesSubplot(0.125,0.125;0.775x0.755)\n",
      "AxesSubplot(0.125,0.125;0.775x0.755)\n",
      "AxesSubplot(0.125,0.125;0.775x0.755)\n",
      "AxesSubplot(0.125,0.125;0.775x0.755)\n",
      "AxesSubplot(0.125,0.125;0.775x0.755)\n"
     ]
    },
    {
     "name": "stderr",
     "output_type": "stream",
     "text": [
      "C:\\Users\\pranoy.swain\\Anaconda3\\lib\\site-packages\\seaborn\\distributions.py:2619: FutureWarning: `distplot` is a deprecated function and will be removed in a future version. Please adapt your code to use either `displot` (a figure-level function with similar flexibility) or `histplot` (an axes-level function for histograms).\n",
      "  warnings.warn(msg, FutureWarning)\n",
      "C:\\Users\\pranoy.swain\\Anaconda3\\lib\\site-packages\\seaborn\\distributions.py:2619: FutureWarning: `distplot` is a deprecated function and will be removed in a future version. Please adapt your code to use either `displot` (a figure-level function with similar flexibility) or `histplot` (an axes-level function for histograms).\n",
      "  warnings.warn(msg, FutureWarning)\n",
      "C:\\Users\\pranoy.swain\\Anaconda3\\lib\\site-packages\\seaborn\\distributions.py:2619: FutureWarning: `distplot` is a deprecated function and will be removed in a future version. Please adapt your code to use either `displot` (a figure-level function with similar flexibility) or `histplot` (an axes-level function for histograms).\n",
      "  warnings.warn(msg, FutureWarning)\n",
      "C:\\Users\\pranoy.swain\\Anaconda3\\lib\\site-packages\\seaborn\\distributions.py:2619: FutureWarning: `distplot` is a deprecated function and will be removed in a future version. Please adapt your code to use either `displot` (a figure-level function with similar flexibility) or `histplot` (an axes-level function for histograms).\n",
      "  warnings.warn(msg, FutureWarning)\n",
      "C:\\Users\\pranoy.swain\\Anaconda3\\lib\\site-packages\\seaborn\\distributions.py:2619: FutureWarning: `distplot` is a deprecated function and will be removed in a future version. Please adapt your code to use either `displot` (a figure-level function with similar flexibility) or `histplot` (an axes-level function for histograms).\n",
      "  warnings.warn(msg, FutureWarning)\n",
      "C:\\Users\\pranoy.swain\\Anaconda3\\lib\\site-packages\\seaborn\\distributions.py:2619: FutureWarning: `distplot` is a deprecated function and will be removed in a future version. Please adapt your code to use either `displot` (a figure-level function with similar flexibility) or `histplot` (an axes-level function for histograms).\n",
      "  warnings.warn(msg, FutureWarning)\n",
      "C:\\Users\\pranoy.swain\\Anaconda3\\lib\\site-packages\\seaborn\\distributions.py:2619: FutureWarning: `distplot` is a deprecated function and will be removed in a future version. Please adapt your code to use either `displot` (a figure-level function with similar flexibility) or `histplot` (an axes-level function for histograms).\n",
      "  warnings.warn(msg, FutureWarning)\n",
      "C:\\Users\\pranoy.swain\\Anaconda3\\lib\\site-packages\\seaborn\\distributions.py:2619: FutureWarning: `distplot` is a deprecated function and will be removed in a future version. Please adapt your code to use either `displot` (a figure-level function with similar flexibility) or `histplot` (an axes-level function for histograms).\n",
      "  warnings.warn(msg, FutureWarning)\n",
      "C:\\Users\\pranoy.swain\\Anaconda3\\lib\\site-packages\\seaborn\\distributions.py:2619: FutureWarning: `distplot` is a deprecated function and will be removed in a future version. Please adapt your code to use either `displot` (a figure-level function with similar flexibility) or `histplot` (an axes-level function for histograms).\n",
      "  warnings.warn(msg, FutureWarning)\n"
     ]
    },
    {
     "name": "stdout",
     "output_type": "stream",
     "text": [
      "AxesSubplot(0.125,0.125;0.775x0.755)\n",
      "AxesSubplot(0.125,0.125;0.775x0.755)\n",
      "AxesSubplot(0.125,0.125;0.775x0.755)\n",
      "AxesSubplot(0.125,0.125;0.775x0.755)\n",
      "AxesSubplot(0.125,0.125;0.775x0.755)\n",
      "AxesSubplot(0.125,0.125;0.775x0.755)\n",
      "AxesSubplot(0.125,0.125;0.775x0.755)\n",
      "AxesSubplot(0.125,0.125;0.775x0.755)\n",
      "AxesSubplot(0.125,0.125;0.775x0.755)\n"
     ]
    },
    {
     "name": "stderr",
     "output_type": "stream",
     "text": [
      "C:\\Users\\pranoy.swain\\Anaconda3\\lib\\site-packages\\seaborn\\distributions.py:2619: FutureWarning: `distplot` is a deprecated function and will be removed in a future version. Please adapt your code to use either `displot` (a figure-level function with similar flexibility) or `histplot` (an axes-level function for histograms).\n",
      "  warnings.warn(msg, FutureWarning)\n",
      "C:\\Users\\pranoy.swain\\Anaconda3\\lib\\site-packages\\seaborn\\distributions.py:2619: FutureWarning: `distplot` is a deprecated function and will be removed in a future version. Please adapt your code to use either `displot` (a figure-level function with similar flexibility) or `histplot` (an axes-level function for histograms).\n",
      "  warnings.warn(msg, FutureWarning)\n",
      "C:\\Users\\pranoy.swain\\Anaconda3\\lib\\site-packages\\seaborn\\distributions.py:2619: FutureWarning: `distplot` is a deprecated function and will be removed in a future version. Please adapt your code to use either `displot` (a figure-level function with similar flexibility) or `histplot` (an axes-level function for histograms).\n",
      "  warnings.warn(msg, FutureWarning)\n",
      "C:\\Users\\pranoy.swain\\Anaconda3\\lib\\site-packages\\seaborn\\distributions.py:2619: FutureWarning: `distplot` is a deprecated function and will be removed in a future version. Please adapt your code to use either `displot` (a figure-level function with similar flexibility) or `histplot` (an axes-level function for histograms).\n",
      "  warnings.warn(msg, FutureWarning)\n",
      "C:\\Users\\pranoy.swain\\Anaconda3\\lib\\site-packages\\seaborn\\distributions.py:2619: FutureWarning: `distplot` is a deprecated function and will be removed in a future version. Please adapt your code to use either `displot` (a figure-level function with similar flexibility) or `histplot` (an axes-level function for histograms).\n",
      "  warnings.warn(msg, FutureWarning)\n",
      "C:\\Users\\pranoy.swain\\Anaconda3\\lib\\site-packages\\seaborn\\distributions.py:2619: FutureWarning: `distplot` is a deprecated function and will be removed in a future version. Please adapt your code to use either `displot` (a figure-level function with similar flexibility) or `histplot` (an axes-level function for histograms).\n",
      "  warnings.warn(msg, FutureWarning)\n",
      "C:\\Users\\pranoy.swain\\Anaconda3\\lib\\site-packages\\seaborn\\distributions.py:2619: FutureWarning: `distplot` is a deprecated function and will be removed in a future version. Please adapt your code to use either `displot` (a figure-level function with similar flexibility) or `histplot` (an axes-level function for histograms).\n",
      "  warnings.warn(msg, FutureWarning)\n"
     ]
    },
    {
     "name": "stdout",
     "output_type": "stream",
     "text": [
      "AxesSubplot(0.125,0.125;0.775x0.755)\n",
      "AxesSubplot(0.125,0.125;0.775x0.755)\n",
      "AxesSubplot(0.125,0.125;0.775x0.755)\n",
      "AxesSubplot(0.125,0.125;0.775x0.755)\n",
      "AxesSubplot(0.125,0.125;0.775x0.755)\n",
      "AxesSubplot(0.125,0.125;0.775x0.755)\n",
      "AxesSubplot(0.125,0.125;0.775x0.755)\n"
     ]
    },
    {
     "name": "stderr",
     "output_type": "stream",
     "text": [
      "C:\\Users\\pranoy.swain\\Anaconda3\\lib\\site-packages\\seaborn\\distributions.py:2619: FutureWarning: `distplot` is a deprecated function and will be removed in a future version. Please adapt your code to use either `displot` (a figure-level function with similar flexibility) or `histplot` (an axes-level function for histograms).\n",
      "  warnings.warn(msg, FutureWarning)\n",
      "C:\\Users\\pranoy.swain\\Anaconda3\\lib\\site-packages\\seaborn\\distributions.py:2619: FutureWarning: `distplot` is a deprecated function and will be removed in a future version. Please adapt your code to use either `displot` (a figure-level function with similar flexibility) or `histplot` (an axes-level function for histograms).\n",
      "  warnings.warn(msg, FutureWarning)\n",
      "C:\\Users\\pranoy.swain\\Anaconda3\\lib\\site-packages\\seaborn\\distributions.py:2619: FutureWarning: `distplot` is a deprecated function and will be removed in a future version. Please adapt your code to use either `displot` (a figure-level function with similar flexibility) or `histplot` (an axes-level function for histograms).\n",
      "  warnings.warn(msg, FutureWarning)\n",
      "C:\\Users\\pranoy.swain\\Anaconda3\\lib\\site-packages\\seaborn\\distributions.py:2619: FutureWarning: `distplot` is a deprecated function and will be removed in a future version. Please adapt your code to use either `displot` (a figure-level function with similar flexibility) or `histplot` (an axes-level function for histograms).\n",
      "  warnings.warn(msg, FutureWarning)\n",
      "C:\\Users\\pranoy.swain\\Anaconda3\\lib\\site-packages\\seaborn\\distributions.py:2619: FutureWarning: `distplot` is a deprecated function and will be removed in a future version. Please adapt your code to use either `displot` (a figure-level function with similar flexibility) or `histplot` (an axes-level function for histograms).\n",
      "  warnings.warn(msg, FutureWarning)\n",
      "C:\\Users\\pranoy.swain\\Anaconda3\\lib\\site-packages\\seaborn\\distributions.py:2619: FutureWarning: `distplot` is a deprecated function and will be removed in a future version. Please adapt your code to use either `displot` (a figure-level function with similar flexibility) or `histplot` (an axes-level function for histograms).\n",
      "  warnings.warn(msg, FutureWarning)\n",
      "C:\\Users\\pranoy.swain\\Anaconda3\\lib\\site-packages\\seaborn\\distributions.py:2619: FutureWarning: `distplot` is a deprecated function and will be removed in a future version. Please adapt your code to use either `displot` (a figure-level function with similar flexibility) or `histplot` (an axes-level function for histograms).\n",
      "  warnings.warn(msg, FutureWarning)\n",
      "C:\\Users\\pranoy.swain\\Anaconda3\\lib\\site-packages\\seaborn\\distributions.py:2619: FutureWarning: `distplot` is a deprecated function and will be removed in a future version. Please adapt your code to use either `displot` (a figure-level function with similar flexibility) or `histplot` (an axes-level function for histograms).\n",
      "  warnings.warn(msg, FutureWarning)\n"
     ]
    },
    {
     "name": "stdout",
     "output_type": "stream",
     "text": [
      "AxesSubplot(0.125,0.125;0.775x0.755)\n",
      "AxesSubplot(0.125,0.125;0.775x0.755)\n",
      "AxesSubplot(0.125,0.125;0.775x0.755)\n",
      "AxesSubplot(0.125,0.125;0.775x0.755)\n",
      "AxesSubplot(0.125,0.125;0.775x0.755)\n",
      "AxesSubplot(0.125,0.125;0.775x0.755)\n",
      "AxesSubplot(0.125,0.125;0.775x0.755)\n",
      "AxesSubplot(0.125,0.125;0.775x0.755)\n"
     ]
    },
    {
     "name": "stderr",
     "output_type": "stream",
     "text": [
      "C:\\Users\\pranoy.swain\\Anaconda3\\lib\\site-packages\\seaborn\\distributions.py:2619: FutureWarning: `distplot` is a deprecated function and will be removed in a future version. Please adapt your code to use either `displot` (a figure-level function with similar flexibility) or `histplot` (an axes-level function for histograms).\n",
      "  warnings.warn(msg, FutureWarning)\n",
      "C:\\Users\\pranoy.swain\\Anaconda3\\lib\\site-packages\\seaborn\\distributions.py:2619: FutureWarning: `distplot` is a deprecated function and will be removed in a future version. Please adapt your code to use either `displot` (a figure-level function with similar flexibility) or `histplot` (an axes-level function for histograms).\n",
      "  warnings.warn(msg, FutureWarning)\n",
      "C:\\Users\\pranoy.swain\\Anaconda3\\lib\\site-packages\\seaborn\\distributions.py:2619: FutureWarning: `distplot` is a deprecated function and will be removed in a future version. Please adapt your code to use either `displot` (a figure-level function with similar flexibility) or `histplot` (an axes-level function for histograms).\n",
      "  warnings.warn(msg, FutureWarning)\n",
      "C:\\Users\\pranoy.swain\\Anaconda3\\lib\\site-packages\\seaborn\\distributions.py:2619: FutureWarning: `distplot` is a deprecated function and will be removed in a future version. Please adapt your code to use either `displot` (a figure-level function with similar flexibility) or `histplot` (an axes-level function for histograms).\n",
      "  warnings.warn(msg, FutureWarning)\n",
      "C:\\Users\\pranoy.swain\\Anaconda3\\lib\\site-packages\\seaborn\\distributions.py:2619: FutureWarning: `distplot` is a deprecated function and will be removed in a future version. Please adapt your code to use either `displot` (a figure-level function with similar flexibility) or `histplot` (an axes-level function for histograms).\n",
      "  warnings.warn(msg, FutureWarning)\n",
      "C:\\Users\\pranoy.swain\\Anaconda3\\lib\\site-packages\\seaborn\\distributions.py:2619: FutureWarning: `distplot` is a deprecated function and will be removed in a future version. Please adapt your code to use either `displot` (a figure-level function with similar flexibility) or `histplot` (an axes-level function for histograms).\n",
      "  warnings.warn(msg, FutureWarning)\n",
      "C:\\Users\\pranoy.swain\\Anaconda3\\lib\\site-packages\\seaborn\\distributions.py:2619: FutureWarning: `distplot` is a deprecated function and will be removed in a future version. Please adapt your code to use either `displot` (a figure-level function with similar flexibility) or `histplot` (an axes-level function for histograms).\n",
      "  warnings.warn(msg, FutureWarning)\n",
      "C:\\Users\\pranoy.swain\\Anaconda3\\lib\\site-packages\\seaborn\\distributions.py:2619: FutureWarning: `distplot` is a deprecated function and will be removed in a future version. Please adapt your code to use either `displot` (a figure-level function with similar flexibility) or `histplot` (an axes-level function for histograms).\n",
      "  warnings.warn(msg, FutureWarning)\n"
     ]
    },
    {
     "name": "stdout",
     "output_type": "stream",
     "text": [
      "AxesSubplot(0.125,0.125;0.775x0.755)\n",
      "AxesSubplot(0.125,0.125;0.775x0.755)\n",
      "AxesSubplot(0.125,0.125;0.775x0.755)\n",
      "AxesSubplot(0.125,0.125;0.775x0.755)\n",
      "AxesSubplot(0.125,0.125;0.775x0.755)\n",
      "AxesSubplot(0.125,0.125;0.775x0.755)\n",
      "AxesSubplot(0.125,0.125;0.775x0.755)\n",
      "AxesSubplot(0.125,0.125;0.775x0.755)\n"
     ]
    },
    {
     "name": "stderr",
     "output_type": "stream",
     "text": [
      "C:\\Users\\pranoy.swain\\Anaconda3\\lib\\site-packages\\seaborn\\distributions.py:2619: FutureWarning: `distplot` is a deprecated function and will be removed in a future version. Please adapt your code to use either `displot` (a figure-level function with similar flexibility) or `histplot` (an axes-level function for histograms).\n",
      "  warnings.warn(msg, FutureWarning)\n",
      "C:\\Users\\pranoy.swain\\Anaconda3\\lib\\site-packages\\seaborn\\distributions.py:2619: FutureWarning: `distplot` is a deprecated function and will be removed in a future version. Please adapt your code to use either `displot` (a figure-level function with similar flexibility) or `histplot` (an axes-level function for histograms).\n",
      "  warnings.warn(msg, FutureWarning)\n",
      "C:\\Users\\pranoy.swain\\Anaconda3\\lib\\site-packages\\seaborn\\distributions.py:2619: FutureWarning: `distplot` is a deprecated function and will be removed in a future version. Please adapt your code to use either `displot` (a figure-level function with similar flexibility) or `histplot` (an axes-level function for histograms).\n",
      "  warnings.warn(msg, FutureWarning)\n",
      "C:\\Users\\pranoy.swain\\Anaconda3\\lib\\site-packages\\seaborn\\distributions.py:2619: FutureWarning: `distplot` is a deprecated function and will be removed in a future version. Please adapt your code to use either `displot` (a figure-level function with similar flexibility) or `histplot` (an axes-level function for histograms).\n",
      "  warnings.warn(msg, FutureWarning)\n",
      "C:\\Users\\pranoy.swain\\Anaconda3\\lib\\site-packages\\seaborn\\distributions.py:2619: FutureWarning: `distplot` is a deprecated function and will be removed in a future version. Please adapt your code to use either `displot` (a figure-level function with similar flexibility) or `histplot` (an axes-level function for histograms).\n",
      "  warnings.warn(msg, FutureWarning)\n",
      "C:\\Users\\pranoy.swain\\Anaconda3\\lib\\site-packages\\seaborn\\distributions.py:2619: FutureWarning: `distplot` is a deprecated function and will be removed in a future version. Please adapt your code to use either `displot` (a figure-level function with similar flexibility) or `histplot` (an axes-level function for histograms).\n",
      "  warnings.warn(msg, FutureWarning)\n"
     ]
    },
    {
     "name": "stdout",
     "output_type": "stream",
     "text": [
      "AxesSubplot(0.125,0.125;0.775x0.755)\n",
      "AxesSubplot(0.125,0.125;0.775x0.755)\n",
      "AxesSubplot(0.125,0.125;0.775x0.755)\n",
      "AxesSubplot(0.125,0.125;0.775x0.755)\n",
      "AxesSubplot(0.125,0.125;0.775x0.755)\n",
      "AxesSubplot(0.125,0.125;0.775x0.755)\n"
     ]
    },
    {
     "name": "stderr",
     "output_type": "stream",
     "text": [
      "C:\\Users\\pranoy.swain\\Anaconda3\\lib\\site-packages\\seaborn\\distributions.py:2619: FutureWarning: `distplot` is a deprecated function and will be removed in a future version. Please adapt your code to use either `displot` (a figure-level function with similar flexibility) or `histplot` (an axes-level function for histograms).\n",
      "  warnings.warn(msg, FutureWarning)\n",
      "C:\\Users\\pranoy.swain\\Anaconda3\\lib\\site-packages\\seaborn\\distributions.py:2619: FutureWarning: `distplot` is a deprecated function and will be removed in a future version. Please adapt your code to use either `displot` (a figure-level function with similar flexibility) or `histplot` (an axes-level function for histograms).\n",
      "  warnings.warn(msg, FutureWarning)\n",
      "C:\\Users\\pranoy.swain\\Anaconda3\\lib\\site-packages\\seaborn\\distributions.py:2619: FutureWarning: `distplot` is a deprecated function and will be removed in a future version. Please adapt your code to use either `displot` (a figure-level function with similar flexibility) or `histplot` (an axes-level function for histograms).\n",
      "  warnings.warn(msg, FutureWarning)\n",
      "C:\\Users\\pranoy.swain\\Anaconda3\\lib\\site-packages\\seaborn\\distributions.py:2619: FutureWarning: `distplot` is a deprecated function and will be removed in a future version. Please adapt your code to use either `displot` (a figure-level function with similar flexibility) or `histplot` (an axes-level function for histograms).\n",
      "  warnings.warn(msg, FutureWarning)\n",
      "C:\\Users\\pranoy.swain\\Anaconda3\\lib\\site-packages\\seaborn\\distributions.py:2619: FutureWarning: `distplot` is a deprecated function and will be removed in a future version. Please adapt your code to use either `displot` (a figure-level function with similar flexibility) or `histplot` (an axes-level function for histograms).\n",
      "  warnings.warn(msg, FutureWarning)\n",
      "C:\\Users\\pranoy.swain\\Anaconda3\\lib\\site-packages\\seaborn\\distributions.py:2619: FutureWarning: `distplot` is a deprecated function and will be removed in a future version. Please adapt your code to use either `displot` (a figure-level function with similar flexibility) or `histplot` (an axes-level function for histograms).\n",
      "  warnings.warn(msg, FutureWarning)\n",
      "C:\\Users\\pranoy.swain\\Anaconda3\\lib\\site-packages\\seaborn\\distributions.py:2619: FutureWarning: `distplot` is a deprecated function and will be removed in a future version. Please adapt your code to use either `displot` (a figure-level function with similar flexibility) or `histplot` (an axes-level function for histograms).\n",
      "  warnings.warn(msg, FutureWarning)\n"
     ]
    },
    {
     "name": "stdout",
     "output_type": "stream",
     "text": [
      "AxesSubplot(0.125,0.125;0.775x0.755)\n",
      "AxesSubplot(0.125,0.125;0.775x0.755)\n",
      "AxesSubplot(0.125,0.125;0.775x0.755)\n",
      "AxesSubplot(0.125,0.125;0.775x0.755)\n",
      "AxesSubplot(0.125,0.125;0.775x0.755)\n",
      "AxesSubplot(0.125,0.125;0.775x0.755)\n",
      "AxesSubplot(0.125,0.125;0.775x0.755)\n",
      "AxesSubplot(0.125,0.125;0.775x0.755)\n",
      "AxesSubplot(0.125,0.125;0.775x0.755)\n",
      "AxesSubplot(0.125,0.125;0.775x0.755)\n",
      "AxesSubplot(0.125,0.125;0.775x0.755)\n",
      "AxesSubplot(0.125,0.125;0.775x0.755)\n",
      "AxesSubplot(0.125,0.125;0.775x0.755)\n",
      "AxesSubplot(0.125,0.125;0.775x0.755)\n",
      "AxesSubplot(0.125,0.125;0.775x0.755)\n"
     ]
    },
    {
     "name": "stderr",
     "output_type": "stream",
     "text": [
      "C:\\Users\\pranoy.swain\\Anaconda3\\lib\\site-packages\\seaborn\\distributions.py:2619: FutureWarning: `distplot` is a deprecated function and will be removed in a future version. Please adapt your code to use either `displot` (a figure-level function with similar flexibility) or `histplot` (an axes-level function for histograms).\n",
      "  warnings.warn(msg, FutureWarning)\n",
      "C:\\Users\\pranoy.swain\\Anaconda3\\lib\\site-packages\\seaborn\\distributions.py:2619: FutureWarning: `distplot` is a deprecated function and will be removed in a future version. Please adapt your code to use either `displot` (a figure-level function with similar flexibility) or `histplot` (an axes-level function for histograms).\n",
      "  warnings.warn(msg, FutureWarning)\n",
      "C:\\Users\\pranoy.swain\\Anaconda3\\lib\\site-packages\\seaborn\\distributions.py:2619: FutureWarning: `distplot` is a deprecated function and will be removed in a future version. Please adapt your code to use either `displot` (a figure-level function with similar flexibility) or `histplot` (an axes-level function for histograms).\n",
      "  warnings.warn(msg, FutureWarning)\n",
      "C:\\Users\\pranoy.swain\\Anaconda3\\lib\\site-packages\\seaborn\\distributions.py:2619: FutureWarning: `distplot` is a deprecated function and will be removed in a future version. Please adapt your code to use either `displot` (a figure-level function with similar flexibility) or `histplot` (an axes-level function for histograms).\n",
      "  warnings.warn(msg, FutureWarning)\n",
      "C:\\Users\\pranoy.swain\\Anaconda3\\lib\\site-packages\\seaborn\\distributions.py:2619: FutureWarning: `distplot` is a deprecated function and will be removed in a future version. Please adapt your code to use either `displot` (a figure-level function with similar flexibility) or `histplot` (an axes-level function for histograms).\n",
      "  warnings.warn(msg, FutureWarning)\n",
      "C:\\Users\\pranoy.swain\\Anaconda3\\lib\\site-packages\\seaborn\\distributions.py:2619: FutureWarning: `distplot` is a deprecated function and will be removed in a future version. Please adapt your code to use either `displot` (a figure-level function with similar flexibility) or `histplot` (an axes-level function for histograms).\n",
      "  warnings.warn(msg, FutureWarning)\n",
      "C:\\Users\\pranoy.swain\\Anaconda3\\lib\\site-packages\\seaborn\\distributions.py:2619: FutureWarning: `distplot` is a deprecated function and will be removed in a future version. Please adapt your code to use either `displot` (a figure-level function with similar flexibility) or `histplot` (an axes-level function for histograms).\n",
      "  warnings.warn(msg, FutureWarning)\n",
      "C:\\Users\\pranoy.swain\\Anaconda3\\lib\\site-packages\\seaborn\\distributions.py:2619: FutureWarning: `distplot` is a deprecated function and will be removed in a future version. Please adapt your code to use either `displot` (a figure-level function with similar flexibility) or `histplot` (an axes-level function for histograms).\n",
      "  warnings.warn(msg, FutureWarning)\n"
     ]
    },
    {
     "data": {
      "image/png": "[encoded data removed]",
      "text/plain": [
       "<Figure size 1490.4x739.44 with 1 Axes>"
      ]
     },
     "metadata": {},
     "output_type": "display_data"
    }
   ],
   "source": [
    "#Checking the distribution of all Datasets in a single graph\n",
    "\n",
    "import glob\n",
    "files = glob.glob (r'C:\\Users\\pranoy.swain\\OneDrive - TIGER ANALYTICS INDIA CONSULTING PRIVATE LIMITED\\Desktop\\CASE STUDY PIP\\Raw_data (2)\\Raw_data\\VA00000000000017/*.csv')\n",
    "\n",
    "\n",
    "for file in files:\n",
    "    csv = pd.read_csv(file)\n",
    "    print(sns.distplot(csv['sum'], kde= False,bins=20))\n"
   ]
  },
  {
   "cell_type": "markdown",
   "id": "6440897a",
   "metadata": {},
   "source": [
    "# Dataset preparation"
   ]
  },
  {
   "cell_type": "code",
   "execution_count": 23,
   "id": "8499d7e7",
   "metadata": {},
   "outputs": [
    {
     "name": "stderr",
     "output_type": "stream",
     "text": [
      "IOPub data rate exceeded.\n",
      "The notebook server will temporarily stop sending output\n",
      "to the client in order to avoid crashing it.\n",
      "To change this limit, set the config variable\n",
      "`--NotebookApp.iopub_data_rate_limit`.\n",
      "\n",
      "Current values:\n",
      "NotebookApp.iopub_data_rate_limit=1000000.0 (bytes/sec)\n",
      "NotebookApp.rate_limit_window=3.0 (secs)\n",
      "\n"
     ]
    }
   ],
   "source": [
    "import os\n",
    "from glob import glob\n",
    "PATH = r\"C:\\Users\\pranoy.swain\\OneDrive - TIGER ANALYTICS INDIA CONSULTING PRIVATE LIMITED\\Desktop\\CASE STUDY PIP\\Raw_data (2)\\Raw_data\"\n",
    "EXT = \"*.csv\"\n",
    "all_csv_files = [file\n",
    "                 for path, subdir, files in os.walk(PATH)\n",
    "                 for file in glob(os.path.join(path, EXT))]\n",
    "print(all_csv_files)"
   ]
  },
  {
   "cell_type": "code",
   "execution_count": 24,
   "id": "06e1bfb6",
   "metadata": {},
   "outputs": [
    {
     "name": "stderr",
     "output_type": "stream",
     "text": [
      "IOPub data rate exceeded.\n",
      "The notebook server will temporarily stop sending output\n",
      "to the client in order to avoid crashing it.\n",
      "To change this limit, set the config variable\n",
      "`--NotebookApp.iopub_data_rate_limit`.\n",
      "\n",
      "Current values:\n",
      "NotebookApp.iopub_data_rate_limit=1000000.0 (bytes/sec)\n",
      "NotebookApp.rate_limit_window=3.0 (secs)\n",
      "\n"
     ]
    }
   ],
   "source": [
    "PATH = r\"C:\\Users\\pranoy.swain\\OneDrive - TIGER ANALYTICS INDIA CONSULTING PRIVATE LIMITED\\Desktop\\CASE STUDY PIP\\Raw_data (2)\\Raw_data\"\n",
    "EXT = \"*.json\"\n",
    "all_json_files = [file\n",
    "                 for path, subdir, files in os.walk(PATH)\n",
    "                 for file in glob(os.path.join(path, EXT))]\n",
    "print(all_json_files)"
   ]
  },
  {
   "cell_type": "code",
   "execution_count": 25,
   "id": "dc597356",
   "metadata": {},
   "outputs": [
    {
     "data": {
      "text/html": [
       "<div>\n",
       "<style scoped>\n",
       "    .dataframe tbody tr th:only-of-type {\n",
       "        vertical-align: middle;\n",
       "    }\n",
       "\n",
       "    .dataframe tbody tr th {\n",
       "        vertical-align: top;\n",
       "    }\n",
       "\n",
       "    .dataframe thead th {\n",
       "        text-align: right;\n",
       "    }\n",
       "</style>\n",
       "<table border=\"1\" class=\"dataframe\">\n",
       "  <thead>\n",
       "    <tr style=\"text-align: right;\">\n",
       "      <th></th>\n",
       "      <th>Device_ID</th>\n",
       "      <th>Event_ID</th>\n",
       "      <th>Event_start_time</th>\n",
       "      <th>Tags</th>\n",
       "      <th>Free_text</th>\n",
       "      <th>Name_of_cat</th>\n",
       "      <th>Weight_of_cat</th>\n",
       "      <th>Tare_weight</th>\n",
       "      <th>site</th>\n",
       "    </tr>\n",
       "  </thead>\n",
       "  <tbody>\n",
       "    <tr>\n",
       "      <th>0</th>\n",
       "      <td>VA00000000000017</td>\n",
       "      <td>RXZlbnRJbmZvcm1hdGlvbjo0OWQ4M2I3MS1kNDZmLTRiYj...</td>\n",
       "      <td>2020-09-05T10:56:11-05:00</td>\n",
       "      <td>[urination, cat in box]</td>\n",
       "      <td>None</td>\n",
       "      <td>Ryan</td>\n",
       "      <td>6589</td>\n",
       "      <td>None</td>\n",
       "      <td>C:\\Users\\pranoy.swain\\OneDrive - TIGER ANALYTI...</td>\n",
       "    </tr>\n",
       "    <tr>\n",
       "      <th>0</th>\n",
       "      <td>VA00000000000017</td>\n",
       "      <td>RXZlbnRJbmZvcm1hdGlvbjo0YmI3ZDc5YS0wNzMwLTQ0MT...</td>\n",
       "      <td>2020-07-18T14:41:37-05:00</td>\n",
       "      <td>[cat in box, synapse_labeled, urination]</td>\n",
       "      <td>14:42:15\\t14:43:09\\tConfirmed activity, cat in...</td>\n",
       "      <td>Ryan</td>\n",
       "      <td>6935</td>\n",
       "      <td>None</td>\n",
       "      <td>C:\\Users\\pranoy.swain\\OneDrive - TIGER ANALYTI...</td>\n",
       "    </tr>\n",
       "    <tr>\n",
       "      <th>0</th>\n",
       "      <td>VA00000000000017</td>\n",
       "      <td>RXZlbnRJbmZvcm1hdGlvbjo0ZTBhMDVhOC0wZmI2LTQ2MG...</td>\n",
       "      <td>2020-09-03T15:43:43-05:00</td>\n",
       "      <td>[cat in box, urination]</td>\n",
       "      <td>None</td>\n",
       "      <td>Ryan</td>\n",
       "      <td>5139</td>\n",
       "      <td>None</td>\n",
       "      <td>C:\\Users\\pranoy.swain\\OneDrive - TIGER ANALYTI...</td>\n",
       "    </tr>\n",
       "    <tr>\n",
       "      <th>0</th>\n",
       "      <td>VA00000000000017</td>\n",
       "      <td>RXZlbnRJbmZvcm1hdGlvbjo1NGEwMTg2My01NDhjLTRhYT...</td>\n",
       "      <td>2020-09-01T12:02:05-05:00</td>\n",
       "      <td>[non_elimination, cat in box]</td>\n",
       "      <td>None</td>\n",
       "      <td>Ryan</td>\n",
       "      <td>6983</td>\n",
       "      <td>None</td>\n",
       "      <td>C:\\Users\\pranoy.swain\\OneDrive - TIGER ANALYTI...</td>\n",
       "    </tr>\n",
       "    <tr>\n",
       "      <th>0</th>\n",
       "      <td>VA00000000000017</td>\n",
       "      <td>RXZlbnRJbmZvcm1hdGlvbjo1YzQwMzE4MS1lNzhkLTQ3Nz...</td>\n",
       "      <td>2020-08-08T06:47:11-05:00</td>\n",
       "      <td>[cat in box, synapse_labeled, urination]</td>\n",
       "      <td>6:47:16\\t6:48:59\\tConfirmed activity, cat in t...</td>\n",
       "      <td>Ryan</td>\n",
       "      <td>7017</td>\n",
       "      <td>None</td>\n",
       "      <td>C:\\Users\\pranoy.swain\\OneDrive - TIGER ANALYTI...</td>\n",
       "    </tr>\n",
       "    <tr>\n",
       "      <th>...</th>\n",
       "      <td>...</td>\n",
       "      <td>...</td>\n",
       "      <td>...</td>\n",
       "      <td>...</td>\n",
       "      <td>...</td>\n",
       "      <td>...</td>\n",
       "      <td>...</td>\n",
       "      <td>...</td>\n",
       "      <td>...</td>\n",
       "    </tr>\n",
       "    <tr>\n",
       "      <th>0</th>\n",
       "      <td>VB00000000000192</td>\n",
       "      <td>RXZlbnRJbmZvcm1hdGlvbjplOTY1YzllOC01YWU1LTRmYj...</td>\n",
       "      <td>2021-08-24T01:36:18-05:00</td>\n",
       "      <td>[urination, cat in box]</td>\n",
       "      <td>1:36:18\\t1:37:07\\tConfirmed activity, cat in t...</td>\n",
       "      <td>Sparkler</td>\n",
       "      <td>4116</td>\n",
       "      <td>[2340, 868, 2150, 1626]</td>\n",
       "      <td>C:\\Users\\pranoy.swain\\OneDrive - TIGER ANALYTI...</td>\n",
       "    </tr>\n",
       "    <tr>\n",
       "      <th>0</th>\n",
       "      <td>VB00000000000192</td>\n",
       "      <td>RXZlbnRJbmZvcm1hdGlvbjpmNDMxM2YwNi1hNzk0LTQxMG...</td>\n",
       "      <td>2021-04-26T06:29:01-05:00</td>\n",
       "      <td>[cat in box, non_elimination]</td>\n",
       "      <td>None</td>\n",
       "      <td>Sparkler</td>\n",
       "      <td>4604</td>\n",
       "      <td>[3577, 400, 2043, 1747]</td>\n",
       "      <td>C:\\Users\\pranoy.swain\\OneDrive - TIGER ANALYTI...</td>\n",
       "    </tr>\n",
       "    <tr>\n",
       "      <th>0</th>\n",
       "      <td>VB00000000000192</td>\n",
       "      <td>RXZlbnRJbmZvcm1hdGlvbjpmYjQ3YzJkZi03ODY3LTQ3Zm...</td>\n",
       "      <td>2021-04-27T03:47:55-05:00</td>\n",
       "      <td>[urination, cat in box]</td>\n",
       "      <td>None</td>\n",
       "      <td>Sparkler</td>\n",
       "      <td>4416</td>\n",
       "      <td>[4313, -14729, 1754, 1697]</td>\n",
       "      <td>C:\\Users\\pranoy.swain\\OneDrive - TIGER ANALYTI...</td>\n",
       "    </tr>\n",
       "    <tr>\n",
       "      <th>0</th>\n",
       "      <td>VB00000000000192</td>\n",
       "      <td>RXZlbnRJbmZvcm1hdGlvbjpmYTY2MzA0OC1kNjQ1LTQ5OD...</td>\n",
       "      <td>2021-09-02T01:15:57-05:00</td>\n",
       "      <td>[cat in box, defecation]</td>\n",
       "      <td>1:15:53\\t1:19:07\\tConfirmed activity, cat in t...</td>\n",
       "      <td>Sparkler</td>\n",
       "      <td>4386</td>\n",
       "      <td>[3702, -893, 1561, 1940]</td>\n",
       "      <td>C:\\Users\\pranoy.swain\\OneDrive - TIGER ANALYTI...</td>\n",
       "    </tr>\n",
       "    <tr>\n",
       "      <th>0</th>\n",
       "      <td>VB00000000000192</td>\n",
       "      <td>RXZlbnRJbmZvcm1hdGlvbjpmZTc0ZmZlNS1mZjdhLTRlYj...</td>\n",
       "      <td>2021-10-03T14:45:43-05:00</td>\n",
       "      <td>[cat in box, urination]</td>\n",
       "      <td>14:45:43\\t14:47:08\\tConfirmed activity, cat in...</td>\n",
       "      <td>Sparkler</td>\n",
       "      <td>4510</td>\n",
       "      <td>[2867, -689, 2402, 3441]</td>\n",
       "      <td>C:\\Users\\pranoy.swain\\OneDrive - TIGER ANALYTI...</td>\n",
       "    </tr>\n",
       "  </tbody>\n",
       "</table>\n",
       "<p>13075 rows × 9 columns</p>\n",
       "</div>"
      ],
      "text/plain": [
       "           Device_ID                                           Event_ID  \\\n",
       "0   VA00000000000017  RXZlbnRJbmZvcm1hdGlvbjo0OWQ4M2I3MS1kNDZmLTRiYj...   \n",
       "0   VA00000000000017  RXZlbnRJbmZvcm1hdGlvbjo0YmI3ZDc5YS0wNzMwLTQ0MT...   \n",
       "0   VA00000000000017  RXZlbnRJbmZvcm1hdGlvbjo0ZTBhMDVhOC0wZmI2LTQ2MG...   \n",
       "0   VA00000000000017  RXZlbnRJbmZvcm1hdGlvbjo1NGEwMTg2My01NDhjLTRhYT...   \n",
       "0   VA00000000000017  RXZlbnRJbmZvcm1hdGlvbjo1YzQwMzE4MS1lNzhkLTQ3Nz...   \n",
       "..               ...                                                ...   \n",
       "0   VB00000000000192  RXZlbnRJbmZvcm1hdGlvbjplOTY1YzllOC01YWU1LTRmYj...   \n",
       "0   VB00000000000192  RXZlbnRJbmZvcm1hdGlvbjpmNDMxM2YwNi1hNzk0LTQxMG...   \n",
       "0   VB00000000000192  RXZlbnRJbmZvcm1hdGlvbjpmYjQ3YzJkZi03ODY3LTQ3Zm...   \n",
       "0   VB00000000000192  RXZlbnRJbmZvcm1hdGlvbjpmYTY2MzA0OC1kNjQ1LTQ5OD...   \n",
       "0   VB00000000000192  RXZlbnRJbmZvcm1hdGlvbjpmZTc0ZmZlNS1mZjdhLTRlYj...   \n",
       "\n",
       "             Event_start_time                                      Tags  \\\n",
       "0   2020-09-05T10:56:11-05:00                   [urination, cat in box]   \n",
       "0   2020-07-18T14:41:37-05:00  [cat in box, synapse_labeled, urination]   \n",
       "0   2020-09-03T15:43:43-05:00                   [cat in box, urination]   \n",
       "0   2020-09-01T12:02:05-05:00             [non_elimination, cat in box]   \n",
       "0   2020-08-08T06:47:11-05:00  [cat in box, synapse_labeled, urination]   \n",
       "..                        ...                                       ...   \n",
       "0   2021-08-24T01:36:18-05:00                   [urination, cat in box]   \n",
       "0   2021-04-26T06:29:01-05:00             [cat in box, non_elimination]   \n",
       "0   2021-04-27T03:47:55-05:00                   [urination, cat in box]   \n",
       "0   2021-09-02T01:15:57-05:00                  [cat in box, defecation]   \n",
       "0   2021-10-03T14:45:43-05:00                   [cat in box, urination]   \n",
       "\n",
       "                                            Free_text Name_of_cat  \\\n",
       "0                                                None        Ryan   \n",
       "0   14:42:15\\t14:43:09\\tConfirmed activity, cat in...        Ryan   \n",
       "0                                                None        Ryan   \n",
       "0                                                None        Ryan   \n",
       "0   6:47:16\\t6:48:59\\tConfirmed activity, cat in t...        Ryan   \n",
       "..                                                ...         ...   \n",
       "0   1:36:18\\t1:37:07\\tConfirmed activity, cat in t...    Sparkler   \n",
       "0                                                None    Sparkler   \n",
       "0                                                None    Sparkler   \n",
       "0   1:15:53\\t1:19:07\\tConfirmed activity, cat in t...    Sparkler   \n",
       "0   14:45:43\\t14:47:08\\tConfirmed activity, cat in...    Sparkler   \n",
       "\n",
       "   Weight_of_cat                 Tare_weight  \\\n",
       "0           6589                        None   \n",
       "0           6935                        None   \n",
       "0           5139                        None   \n",
       "0           6983                        None   \n",
       "0           7017                        None   \n",
       "..           ...                         ...   \n",
       "0           4116     [2340, 868, 2150, 1626]   \n",
       "0           4604     [3577, 400, 2043, 1747]   \n",
       "0           4416  [4313, -14729, 1754, 1697]   \n",
       "0           4386    [3702, -893, 1561, 1940]   \n",
       "0           4510    [2867, -689, 2402, 3441]   \n",
       "\n",
       "                                                 site  \n",
       "0   C:\\Users\\pranoy.swain\\OneDrive - TIGER ANALYTI...  \n",
       "0   C:\\Users\\pranoy.swain\\OneDrive - TIGER ANALYTI...  \n",
       "0   C:\\Users\\pranoy.swain\\OneDrive - TIGER ANALYTI...  \n",
       "0   C:\\Users\\pranoy.swain\\OneDrive - TIGER ANALYTI...  \n",
       "0   C:\\Users\\pranoy.swain\\OneDrive - TIGER ANALYTI...  \n",
       "..                                                ...  \n",
       "0   C:\\Users\\pranoy.swain\\OneDrive - TIGER ANALYTI...  \n",
       "0   C:\\Users\\pranoy.swain\\OneDrive - TIGER ANALYTI...  \n",
       "0   C:\\Users\\pranoy.swain\\OneDrive - TIGER ANALYTI...  \n",
       "0   C:\\Users\\pranoy.swain\\OneDrive - TIGER ANALYTI...  \n",
       "0   C:\\Users\\pranoy.swain\\OneDrive - TIGER ANALYTI...  \n",
       "\n",
       "[13075 rows x 9 columns]"
      ]
     },
     "execution_count": 25,
     "metadata": {},
     "output_type": "execute_result"
    }
   ],
   "source": [
    "#creating dataframe from all json files\n",
    "\n",
    "dfs = []\n",
    "for file in all_json_files:\n",
    "    with open(file) as f:\n",
    "        json_data = pd.json_normalize(json.loads(f.read()))\n",
    "        json_data['site'] = file.rsplit(\"/\", 1)[-1]\n",
    "    dfs.append(json_data)\n",
    "json_df = pd.concat(dfs)\n",
    "json_df"
   ]
  },
  {
   "cell_type": "code",
   "execution_count": 26,
   "id": "774af13f",
   "metadata": {},
   "outputs": [],
   "source": [
    "# Selecting columns relevant to creating models\n",
    "\n",
    "json_df = json_df[['Tags','Free_text','Weight_of_cat', 'Tare_weight']]"
   ]
  },
  {
   "cell_type": "code",
   "execution_count": 27,
   "id": "c666e4be",
   "metadata": {},
   "outputs": [],
   "source": [
    "# Creating Target Variable( whether elimination or non-elimination) from json files\n",
    "\n",
    "ele_non_ele = []\n",
    "for i,t in enumerate(json_df['Tags']):\n",
    "    if 'urination' in t or 'defecation' in t:\n",
    "        ele_non_ele.append('elimination')\n",
    "    else:\n",
    "        ele_non_ele.append('non_elimination')\n",
    "ele = pd.DataFrame(ele_non_ele)"
   ]
  },
  {
   "cell_type": "code",
   "execution_count": 28,
   "id": "53ed3640",
   "metadata": {},
   "outputs": [],
   "source": [
    "ele.columns= ['ele/non_ele']"
   ]
  },
  {
   "cell_type": "code",
   "execution_count": 29,
   "id": "be1ce70a",
   "metadata": {},
   "outputs": [],
   "source": [
    "json_df = json_df.reset_index(drop=False)\n",
    "del(json_df['index'])"
   ]
  },
  {
   "cell_type": "code",
   "execution_count": 30,
   "id": "33da9217",
   "metadata": {},
   "outputs": [],
   "source": [
    "json_data = pd.concat([ele ,json_df], axis =1)"
   ]
  },
  {
   "cell_type": "code",
   "execution_count": 31,
   "id": "3df8b5fa",
   "metadata": {},
   "outputs": [
    {
     "data": {
      "text/html": [
       "<div>\n",
       "<style scoped>\n",
       "    .dataframe tbody tr th:only-of-type {\n",
       "        vertical-align: middle;\n",
       "    }\n",
       "\n",
       "    .dataframe tbody tr th {\n",
       "        vertical-align: top;\n",
       "    }\n",
       "\n",
       "    .dataframe thead th {\n",
       "        text-align: right;\n",
       "    }\n",
       "</style>\n",
       "<table border=\"1\" class=\"dataframe\">\n",
       "  <thead>\n",
       "    <tr style=\"text-align: right;\">\n",
       "      <th></th>\n",
       "      <th>ele/non_ele</th>\n",
       "      <th>Tags</th>\n",
       "      <th>Free_text</th>\n",
       "      <th>Weight_of_cat</th>\n",
       "      <th>Tare_weight</th>\n",
       "    </tr>\n",
       "  </thead>\n",
       "  <tbody>\n",
       "    <tr>\n",
       "      <th>0</th>\n",
       "      <td>elimination</td>\n",
       "      <td>[urination, cat in box]</td>\n",
       "      <td>None</td>\n",
       "      <td>6589</td>\n",
       "      <td>None</td>\n",
       "    </tr>\n",
       "    <tr>\n",
       "      <th>1</th>\n",
       "      <td>elimination</td>\n",
       "      <td>[cat in box, synapse_labeled, urination]</td>\n",
       "      <td>14:42:15\\t14:43:09\\tConfirmed activity, cat in...</td>\n",
       "      <td>6935</td>\n",
       "      <td>None</td>\n",
       "    </tr>\n",
       "    <tr>\n",
       "      <th>2</th>\n",
       "      <td>elimination</td>\n",
       "      <td>[cat in box, urination]</td>\n",
       "      <td>None</td>\n",
       "      <td>5139</td>\n",
       "      <td>None</td>\n",
       "    </tr>\n",
       "    <tr>\n",
       "      <th>3</th>\n",
       "      <td>non_elimination</td>\n",
       "      <td>[non_elimination, cat in box]</td>\n",
       "      <td>None</td>\n",
       "      <td>6983</td>\n",
       "      <td>None</td>\n",
       "    </tr>\n",
       "    <tr>\n",
       "      <th>4</th>\n",
       "      <td>elimination</td>\n",
       "      <td>[cat in box, synapse_labeled, urination]</td>\n",
       "      <td>6:47:16\\t6:48:59\\tConfirmed activity, cat in t...</td>\n",
       "      <td>7017</td>\n",
       "      <td>None</td>\n",
       "    </tr>\n",
       "    <tr>\n",
       "      <th>...</th>\n",
       "      <td>...</td>\n",
       "      <td>...</td>\n",
       "      <td>...</td>\n",
       "      <td>...</td>\n",
       "      <td>...</td>\n",
       "    </tr>\n",
       "    <tr>\n",
       "      <th>13070</th>\n",
       "      <td>elimination</td>\n",
       "      <td>[urination, cat in box]</td>\n",
       "      <td>1:36:18\\t1:37:07\\tConfirmed activity, cat in t...</td>\n",
       "      <td>4116</td>\n",
       "      <td>[2340, 868, 2150, 1626]</td>\n",
       "    </tr>\n",
       "    <tr>\n",
       "      <th>13071</th>\n",
       "      <td>non_elimination</td>\n",
       "      <td>[cat in box, non_elimination]</td>\n",
       "      <td>None</td>\n",
       "      <td>4604</td>\n",
       "      <td>[3577, 400, 2043, 1747]</td>\n",
       "    </tr>\n",
       "    <tr>\n",
       "      <th>13072</th>\n",
       "      <td>elimination</td>\n",
       "      <td>[urination, cat in box]</td>\n",
       "      <td>None</td>\n",
       "      <td>4416</td>\n",
       "      <td>[4313, -14729, 1754, 1697]</td>\n",
       "    </tr>\n",
       "    <tr>\n",
       "      <th>13073</th>\n",
       "      <td>elimination</td>\n",
       "      <td>[cat in box, defecation]</td>\n",
       "      <td>1:15:53\\t1:19:07\\tConfirmed activity, cat in t...</td>\n",
       "      <td>4386</td>\n",
       "      <td>[3702, -893, 1561, 1940]</td>\n",
       "    </tr>\n",
       "    <tr>\n",
       "      <th>13074</th>\n",
       "      <td>elimination</td>\n",
       "      <td>[cat in box, urination]</td>\n",
       "      <td>14:45:43\\t14:47:08\\tConfirmed activity, cat in...</td>\n",
       "      <td>4510</td>\n",
       "      <td>[2867, -689, 2402, 3441]</td>\n",
       "    </tr>\n",
       "  </tbody>\n",
       "</table>\n",
       "<p>13075 rows × 5 columns</p>\n",
       "</div>"
      ],
      "text/plain": [
       "           ele/non_ele                                      Tags  \\\n",
       "0          elimination                   [urination, cat in box]   \n",
       "1          elimination  [cat in box, synapse_labeled, urination]   \n",
       "2          elimination                   [cat in box, urination]   \n",
       "3      non_elimination             [non_elimination, cat in box]   \n",
       "4          elimination  [cat in box, synapse_labeled, urination]   \n",
       "...                ...                                       ...   \n",
       "13070      elimination                   [urination, cat in box]   \n",
       "13071  non_elimination             [cat in box, non_elimination]   \n",
       "13072      elimination                   [urination, cat in box]   \n",
       "13073      elimination                  [cat in box, defecation]   \n",
       "13074      elimination                   [cat in box, urination]   \n",
       "\n",
       "                                               Free_text Weight_of_cat  \\\n",
       "0                                                   None          6589   \n",
       "1      14:42:15\\t14:43:09\\tConfirmed activity, cat in...          6935   \n",
       "2                                                   None          5139   \n",
       "3                                                   None          6983   \n",
       "4      6:47:16\\t6:48:59\\tConfirmed activity, cat in t...          7017   \n",
       "...                                                  ...           ...   \n",
       "13070  1:36:18\\t1:37:07\\tConfirmed activity, cat in t...          4116   \n",
       "13071                                               None          4604   \n",
       "13072                                               None          4416   \n",
       "13073  1:15:53\\t1:19:07\\tConfirmed activity, cat in t...          4386   \n",
       "13074  14:45:43\\t14:47:08\\tConfirmed activity, cat in...          4510   \n",
       "\n",
       "                      Tare_weight  \n",
       "0                            None  \n",
       "1                            None  \n",
       "2                            None  \n",
       "3                            None  \n",
       "4                            None  \n",
       "...                           ...  \n",
       "13070     [2340, 868, 2150, 1626]  \n",
       "13071     [3577, 400, 2043, 1747]  \n",
       "13072  [4313, -14729, 1754, 1697]  \n",
       "13073    [3702, -893, 1561, 1940]  \n",
       "13074    [2867, -689, 2402, 3441]  \n",
       "\n",
       "[13075 rows x 5 columns]"
      ]
     },
     "execution_count": 31,
     "metadata": {},
     "output_type": "execute_result"
    }
   ],
   "source": [
    "json_data"
   ]
  },
  {
   "cell_type": "code",
   "execution_count": 32,
   "id": "35648722",
   "metadata": {},
   "outputs": [],
   "source": [
    "timestamp_1 = []\n",
    "timestamp_std_1 = []\n",
    "mean_1 = []\n",
    "sum_std_1= []\n",
    "timestamp_2 =[]\n",
    "timestamp_std_2 = []\n",
    "mean_2 = [] \n",
    "sum_std_2 = []\n",
    "\n",
    "for file in all_csv_files:\n",
    "    csv = pd.read_csv(file)\n",
    "    timestamp_1.append(csv['timestamp'][csv['sum']>=csv['sum'].mean()].mean())\n",
    "    timestamp_std_1.append(csv['timestamp'][csv['sum']>=csv['sum'].mean()].std())\n",
    "    mean_1.append(csv['sum'][csv['sum']>=csv['sum'].mean()].mean())\n",
    "    sum_std_1.append(csv['sum'][csv['sum']>=csv['sum'].mean()].std())\n",
    "    timestamp_2.append(csv['timestamp'][csv['sum']<csv['sum'].mean()].mean())\n",
    "    timestamp_std_2.append(csv['timestamp'][csv['sum']<csv['sum'].mean()].std())\n",
    "    mean_2.append(csv['sum'][csv['sum']<csv['sum'].mean()].mean())\n",
    "    sum_std_2.append(csv['sum'][csv['sum']<csv['sum'].mean()].std())"
   ]
  },
  {
   "cell_type": "code",
   "execution_count": 33,
   "id": "d08b725e",
   "metadata": {},
   "outputs": [],
   "source": [
    "range_timestamp_1=[]\n",
    "\n",
    "for file in all_csv_files:\n",
    "    csv = pd.read_csv(file)\n",
    "    range_timestamp_1.append(csv['timestamp'][csv['sum']>=csv['sum'].mean()].max()-csv['timestamp'][csv['sum']>=csv['sum'].mean()].min())"
   ]
  },
  {
   "cell_type": "code",
   "execution_count": 34,
   "id": "ac8bfcd2",
   "metadata": {},
   "outputs": [],
   "source": [
    "range_1_timestamp = pd.DataFrame(range_timestamp_1)\n",
    "range_1_timestamp.columns = ['range_timestamp_1']"
   ]
  },
  {
   "cell_type": "code",
   "execution_count": 35,
   "id": "43c62133",
   "metadata": {},
   "outputs": [],
   "source": [
    "range_timestamp_2=[]\n",
    "\n",
    "for file in all_csv_files:\n",
    "    csv = pd.read_csv(file)\n",
    "    range_timestamp_2.append(csv['timestamp'][csv['sum']<csv['sum'].mean()].max()-csv['timestamp'][csv['sum']<csv['sum'].mean()].min())\n",
    "\n",
    "range_2_timestamp = pd.DataFrame(range_timestamp_2)\n",
    "range_2_timestamp.columns = ['range_timestamp_2']"
   ]
  },
  {
   "cell_type": "code",
   "execution_count": 38,
   "id": "6f9fd417",
   "metadata": {},
   "outputs": [],
   "source": [
    "w_median_1 = []\n",
    "mad_1=[]\n",
    "w_median_2 = []\n",
    "mad_2 =[]\n",
    "\n",
    "\n",
    "for file in all_csv_files:\n",
    "    csv = pd.read_csv(file)\n",
    "    w_median_1.append(weighted.median(csv['sum'][csv['sum']>=csv['sum'].mean()],csv['timestamp'][csv['sum']>=csv['sum'].mean()]))\n",
    "    mad_1.append(csv['sum'][csv['sum']>=csv['sum'].mean()].mad())\n",
    "    w_median_2.append(weighted.median(csv['sum'][csv['sum']<csv['sum'].mean()],csv['timestamp'][csv['sum']<csv['sum'].mean()]))\n",
    "    mad_2.append(csv['sum'][csv['sum']<csv['sum'].mean()].mad())"
   ]
  },
  {
   "cell_type": "code",
   "execution_count": 39,
   "id": "3c5101c6",
   "metadata": {},
   "outputs": [],
   "source": [
    "case_df3 = pd.concat([pd.DataFrame(range_1_timestamp),pd.DataFrame(timestamp_std_1), pd.DataFrame(w_median_1),pd.DataFrame(mad_1) ,pd.DataFrame(mean_1),pd.DataFrame(sum_std_1),pd.DataFrame(range_timestamp_2),pd.DataFrame(timestamp_std_2), pd.DataFrame(w_median_2),pd.DataFrame(mad_2), pd.DataFrame(mean_2) ,pd.DataFrame(sum_std_2)], axis= 1 )\n",
    "case_df3.columns= ['range_1_timestamp' , 'timestamp_std_1','w_median_1','mad_1', 'mean_1' , 'sum_std_1' , 'range_timestamp_2' , 'timestamp_std_2','w_median_2', 'mad_2', 'mean_2' , 'sum_std_2']"
   ]
  },
  {
   "cell_type": "code",
   "execution_count": 42,
   "id": "26901c07",
   "metadata": {},
   "outputs": [],
   "source": [
    "df3= pd.concat([case_df3, json_data['Weight_of_cat'], json_data['ele/non_ele']],axis=1)"
   ]
  },
  {
   "cell_type": "code",
   "execution_count": 43,
   "id": "59f8e656",
   "metadata": {
    "scrolled": false
   },
   "outputs": [
    {
     "data": {
      "text/plain": [
       "range_1_timestamp    0\n",
       "timestamp_std_1      0\n",
       "w_median_1           0\n",
       "mad_1                0\n",
       "mean_1               0\n",
       "sum_std_1            0\n",
       "range_timestamp_2    0\n",
       "timestamp_std_2      0\n",
       "w_median_2           0\n",
       "mad_2                0\n",
       "mean_2               0\n",
       "sum_std_2            0\n",
       "Weight_of_cat        0\n",
       "ele/non_ele          0\n",
       "dtype: int64"
      ]
     },
     "execution_count": 43,
     "metadata": {},
     "output_type": "execute_result"
    }
   ],
   "source": [
    "# Checking NULL values in final dataset\n",
    "\n",
    "df3.isnull().sum()"
   ]
  },
  {
   "cell_type": "code",
   "execution_count": 45,
   "id": "8a47c804",
   "metadata": {
    "scrolled": true
   },
   "outputs": [
    {
     "name": "stderr",
     "output_type": "stream",
     "text": [
      "C:\\Users\\pranoy.swain\\AppData\\Local\\Temp\\ipykernel_30996\\1917967475.py:5: SettingWithCopyWarning: \n",
      "A value is trying to be set on a copy of a slice from a DataFrame\n",
      "\n",
      "See the caveats in the documentation: https://pandas.pydata.org/pandas-docs/stable/user_guide/indexing.html#returning-a-view-versus-a-copy\n",
      "  df3['ele/non_ele'][i] = 1\n",
      "C:\\Users\\pranoy.swain\\AppData\\Local\\Temp\\ipykernel_30996\\1917967475.py:7: SettingWithCopyWarning: \n",
      "A value is trying to be set on a copy of a slice from a DataFrame\n",
      "\n",
      "See the caveats in the documentation: https://pandas.pydata.org/pandas-docs/stable/user_guide/indexing.html#returning-a-view-versus-a-copy\n",
      "  df3['ele/non_ele'][i] = 0\n"
     ]
    }
   ],
   "source": [
    "# Creating binary Target Variable(0/1 : 0-non_elimination, 1-elimination)\n",
    "\n",
    "for i in range(len(df3)):\n",
    "    if df3['ele/non_ele'][i]=='elimination':\n",
    "        df3['ele/non_ele'][i] = 1\n",
    "    else:\n",
    "        df3['ele/non_ele'][i] = 0"
   ]
  },
  {
   "cell_type": "code",
   "execution_count": 46,
   "id": "8089153d",
   "metadata": {
    "scrolled": true
   },
   "outputs": [
    {
     "data": {
      "text/html": [
       "<div>\n",
       "<style scoped>\n",
       "    .dataframe tbody tr th:only-of-type {\n",
       "        vertical-align: middle;\n",
       "    }\n",
       "\n",
       "    .dataframe tbody tr th {\n",
       "        vertical-align: top;\n",
       "    }\n",
       "\n",
       "    .dataframe thead th {\n",
       "        text-align: right;\n",
       "    }\n",
       "</style>\n",
       "<table border=\"1\" class=\"dataframe\">\n",
       "  <thead>\n",
       "    <tr style=\"text-align: right;\">\n",
       "      <th></th>\n",
       "      <th>range_1_timestamp</th>\n",
       "      <th>timestamp_std_1</th>\n",
       "      <th>w_median_1</th>\n",
       "      <th>mad_1</th>\n",
       "      <th>mean_1</th>\n",
       "      <th>sum_std_1</th>\n",
       "      <th>range_timestamp_2</th>\n",
       "      <th>timestamp_std_2</th>\n",
       "      <th>w_median_2</th>\n",
       "      <th>mad_2</th>\n",
       "      <th>mean_2</th>\n",
       "      <th>sum_std_2</th>\n",
       "      <th>Weight_of_cat</th>\n",
       "      <th>ele/non_ele</th>\n",
       "    </tr>\n",
       "  </thead>\n",
       "  <tbody>\n",
       "    <tr>\n",
       "      <th>0</th>\n",
       "      <td>44.549942</td>\n",
       "      <td>12.871299</td>\n",
       "      <td>14783.078909</td>\n",
       "      <td>262.879887</td>\n",
       "      <td>14683.978127</td>\n",
       "      <td>565.412482</td>\n",
       "      <td>107.399994</td>\n",
       "      <td>31.014534</td>\n",
       "      <td>8211.0</td>\n",
       "      <td>5.463397</td>\n",
       "      <td>8214.992553</td>\n",
       "      <td>50.619210</td>\n",
       "      <td>6589</td>\n",
       "      <td>1</td>\n",
       "    </tr>\n",
       "    <tr>\n",
       "      <th>1</th>\n",
       "      <td>52.675000</td>\n",
       "      <td>15.209673</td>\n",
       "      <td>13729.000000</td>\n",
       "      <td>170.918421</td>\n",
       "      <td>13702.134789</td>\n",
       "      <td>398.282317</td>\n",
       "      <td>59.425000</td>\n",
       "      <td>17.129352</td>\n",
       "      <td>6799.0</td>\n",
       "      <td>12.516879</td>\n",
       "      <td>6806.974294</td>\n",
       "      <td>84.821128</td>\n",
       "      <td>6935</td>\n",
       "      <td>1</td>\n",
       "    </tr>\n",
       "    <tr>\n",
       "      <th>2</th>\n",
       "      <td>44.125012</td>\n",
       "      <td>12.748615</td>\n",
       "      <td>13988.197964</td>\n",
       "      <td>337.290133</td>\n",
       "      <td>13970.327860</td>\n",
       "      <td>521.328658</td>\n",
       "      <td>102.374944</td>\n",
       "      <td>19.628288</td>\n",
       "      <td>8776.0</td>\n",
       "      <td>89.940081</td>\n",
       "      <td>8837.441631</td>\n",
       "      <td>248.136950</td>\n",
       "      <td>5139</td>\n",
       "      <td>1</td>\n",
       "    </tr>\n",
       "    <tr>\n",
       "      <th>3</th>\n",
       "      <td>11.574934</td>\n",
       "      <td>3.352232</td>\n",
       "      <td>15340.000000</td>\n",
       "      <td>1097.159520</td>\n",
       "      <td>14848.512931</td>\n",
       "      <td>1525.083157</td>\n",
       "      <td>54.775006</td>\n",
       "      <td>15.823004</td>\n",
       "      <td>8793.0</td>\n",
       "      <td>8.509305</td>\n",
       "      <td>8798.611770</td>\n",
       "      <td>56.800831</td>\n",
       "      <td>6983</td>\n",
       "      <td>0</td>\n",
       "    </tr>\n",
       "    <tr>\n",
       "      <th>4</th>\n",
       "      <td>48.775000</td>\n",
       "      <td>14.090955</td>\n",
       "      <td>11773.000000</td>\n",
       "      <td>150.975314</td>\n",
       "      <td>11709.722336</td>\n",
       "      <td>235.912631</td>\n",
       "      <td>33.575000</td>\n",
       "      <td>9.703092</td>\n",
       "      <td>4765.0</td>\n",
       "      <td>229.879811</td>\n",
       "      <td>4887.061756</td>\n",
       "      <td>595.302251</td>\n",
       "      <td>7017</td>\n",
       "      <td>1</td>\n",
       "    </tr>\n",
       "    <tr>\n",
       "      <th>...</th>\n",
       "      <td>...</td>\n",
       "      <td>...</td>\n",
       "      <td>...</td>\n",
       "      <td>...</td>\n",
       "      <td>...</td>\n",
       "      <td>...</td>\n",
       "      <td>...</td>\n",
       "      <td>...</td>\n",
       "      <td>...</td>\n",
       "      <td>...</td>\n",
       "      <td>...</td>\n",
       "      <td>...</td>\n",
       "      <td>...</td>\n",
       "      <td>...</td>\n",
       "    </tr>\n",
       "    <tr>\n",
       "      <th>13070</th>\n",
       "      <td>48.508258</td>\n",
       "      <td>14.031371</td>\n",
       "      <td>11194.000000</td>\n",
       "      <td>229.151460</td>\n",
       "      <td>11105.440871</td>\n",
       "      <td>295.376202</td>\n",
       "      <td>59.125914</td>\n",
       "      <td>8.443558</td>\n",
       "      <td>7031.0</td>\n",
       "      <td>251.246849</td>\n",
       "      <td>7154.556818</td>\n",
       "      <td>634.999924</td>\n",
       "      <td>4116</td>\n",
       "      <td>1</td>\n",
       "    </tr>\n",
       "    <tr>\n",
       "      <th>13071</th>\n",
       "      <td>18.240629</td>\n",
       "      <td>5.275410</td>\n",
       "      <td>12180.000000</td>\n",
       "      <td>944.072545</td>\n",
       "      <td>11595.550409</td>\n",
       "      <td>1137.477829</td>\n",
       "      <td>132.144766</td>\n",
       "      <td>41.018160</td>\n",
       "      <td>7755.0</td>\n",
       "      <td>6.376389</td>\n",
       "      <td>7758.357361</td>\n",
       "      <td>10.877748</td>\n",
       "      <td>4604</td>\n",
       "      <td>0</td>\n",
       "    </tr>\n",
       "    <tr>\n",
       "      <th>13072</th>\n",
       "      <td>77.271593</td>\n",
       "      <td>22.316346</td>\n",
       "      <td>12015.000000</td>\n",
       "      <td>78.614304</td>\n",
       "      <td>12012.479704</td>\n",
       "      <td>124.618100</td>\n",
       "      <td>60.527516</td>\n",
       "      <td>17.482355</td>\n",
       "      <td>7600.0</td>\n",
       "      <td>27.487322</td>\n",
       "      <td>7615.465049</td>\n",
       "      <td>139.694886</td>\n",
       "      <td>4416</td>\n",
       "      <td>1</td>\n",
       "    </tr>\n",
       "    <tr>\n",
       "      <th>13073</th>\n",
       "      <td>194.292593</td>\n",
       "      <td>55.637286</td>\n",
       "      <td>10718.000000</td>\n",
       "      <td>67.219508</td>\n",
       "      <td>10729.069172</td>\n",
       "      <td>110.663980</td>\n",
       "      <td>205.031823</td>\n",
       "      <td>65.526324</td>\n",
       "      <td>6336.0</td>\n",
       "      <td>1882.670767</td>\n",
       "      <td>7963.687933</td>\n",
       "      <td>1945.839136</td>\n",
       "      <td>4386</td>\n",
       "      <td>1</td>\n",
       "    </tr>\n",
       "    <tr>\n",
       "      <th>13074</th>\n",
       "      <td>83.762569</td>\n",
       "      <td>24.116757</td>\n",
       "      <td>12547.000000</td>\n",
       "      <td>81.986449</td>\n",
       "      <td>12552.063587</td>\n",
       "      <td>123.962460</td>\n",
       "      <td>95.103066</td>\n",
       "      <td>20.054344</td>\n",
       "      <td>8046.0</td>\n",
       "      <td>625.956310</td>\n",
       "      <td>8409.959916</td>\n",
       "      <td>985.449651</td>\n",
       "      <td>4510</td>\n",
       "      <td>1</td>\n",
       "    </tr>\n",
       "  </tbody>\n",
       "</table>\n",
       "<p>13075 rows × 14 columns</p>\n",
       "</div>"
      ],
      "text/plain": [
       "       range_1_timestamp  timestamp_std_1    w_median_1        mad_1  \\\n",
       "0              44.549942        12.871299  14783.078909   262.879887   \n",
       "1              52.675000        15.209673  13729.000000   170.918421   \n",
       "2              44.125012        12.748615  13988.197964   337.290133   \n",
       "3              11.574934         3.352232  15340.000000  1097.159520   \n",
       "4              48.775000        14.090955  11773.000000   150.975314   \n",
       "...                  ...              ...           ...          ...   \n",
       "13070          48.508258        14.031371  11194.000000   229.151460   \n",
       "13071          18.240629         5.275410  12180.000000   944.072545   \n",
       "13072          77.271593        22.316346  12015.000000    78.614304   \n",
       "13073         194.292593        55.637286  10718.000000    67.219508   \n",
       "13074          83.762569        24.116757  12547.000000    81.986449   \n",
       "\n",
       "             mean_1    sum_std_1  range_timestamp_2  timestamp_std_2  \\\n",
       "0      14683.978127   565.412482         107.399994        31.014534   \n",
       "1      13702.134789   398.282317          59.425000        17.129352   \n",
       "2      13970.327860   521.328658         102.374944        19.628288   \n",
       "3      14848.512931  1525.083157          54.775006        15.823004   \n",
       "4      11709.722336   235.912631          33.575000         9.703092   \n",
       "...             ...          ...                ...              ...   \n",
       "13070  11105.440871   295.376202          59.125914         8.443558   \n",
       "13071  11595.550409  1137.477829         132.144766        41.018160   \n",
       "13072  12012.479704   124.618100          60.527516        17.482355   \n",
       "13073  10729.069172   110.663980         205.031823        65.526324   \n",
       "13074  12552.063587   123.962460          95.103066        20.054344   \n",
       "\n",
       "       w_median_2        mad_2       mean_2    sum_std_2 Weight_of_cat  \\\n",
       "0          8211.0     5.463397  8214.992553    50.619210          6589   \n",
       "1          6799.0    12.516879  6806.974294    84.821128          6935   \n",
       "2          8776.0    89.940081  8837.441631   248.136950          5139   \n",
       "3          8793.0     8.509305  8798.611770    56.800831          6983   \n",
       "4          4765.0   229.879811  4887.061756   595.302251          7017   \n",
       "...           ...          ...          ...          ...           ...   \n",
       "13070      7031.0   251.246849  7154.556818   634.999924          4116   \n",
       "13071      7755.0     6.376389  7758.357361    10.877748          4604   \n",
       "13072      7600.0    27.487322  7615.465049   139.694886          4416   \n",
       "13073      6336.0  1882.670767  7963.687933  1945.839136          4386   \n",
       "13074      8046.0   625.956310  8409.959916   985.449651          4510   \n",
       "\n",
       "      ele/non_ele  \n",
       "0               1  \n",
       "1               1  \n",
       "2               1  \n",
       "3               0  \n",
       "4               1  \n",
       "...           ...  \n",
       "13070           1  \n",
       "13071           0  \n",
       "13072           1  \n",
       "13073           1  \n",
       "13074           1  \n",
       "\n",
       "[13075 rows x 14 columns]"
      ]
     },
     "execution_count": 46,
     "metadata": {},
     "output_type": "execute_result"
    }
   ],
   "source": [
    "df3"
   ]
  },
  {
   "cell_type": "code",
   "execution_count": 47,
   "id": "3c7c700a",
   "metadata": {},
   "outputs": [
    {
     "name": "stdout",
     "output_type": "stream",
     "text": [
      "<class 'pandas.core.frame.DataFrame'>\n",
      "RangeIndex: 13075 entries, 0 to 13074\n",
      "Data columns (total 14 columns):\n",
      " #   Column             Non-Null Count  Dtype  \n",
      "---  ------             --------------  -----  \n",
      " 0   range_1_timestamp  13075 non-null  float64\n",
      " 1   timestamp_std_1    13075 non-null  float64\n",
      " 2   w_median_1         13075 non-null  float64\n",
      " 3   mad_1              13075 non-null  float64\n",
      " 4   mean_1             13075 non-null  float64\n",
      " 5   sum_std_1          13075 non-null  float64\n",
      " 6   range_timestamp_2  13075 non-null  float64\n",
      " 7   timestamp_std_2    13075 non-null  float64\n",
      " 8   w_median_2         13075 non-null  float64\n",
      " 9   mad_2              13075 non-null  float64\n",
      " 10  mean_2             13075 non-null  float64\n",
      " 11  sum_std_2          13075 non-null  float64\n",
      " 12  Weight_of_cat      13075 non-null  object \n",
      " 13  ele/non_ele        13075 non-null  object \n",
      "dtypes: float64(12), object(2)\n",
      "memory usage: 1.4+ MB\n"
     ]
    }
   ],
   "source": [
    "df3.info()"
   ]
  },
  {
   "cell_type": "code",
   "execution_count": 48,
   "id": "f1419c5d",
   "metadata": {},
   "outputs": [],
   "source": [
    "df3['Weight_of_cat']=df3['Weight_of_cat'].astype('int')\n",
    "df3['ele/non_ele'] = df3['ele/non_ele'].astype('int')"
   ]
  },
  {
   "cell_type": "code",
   "execution_count": 49,
   "id": "d89683d6",
   "metadata": {},
   "outputs": [
    {
     "name": "stdout",
     "output_type": "stream",
     "text": [
      "<class 'pandas.core.frame.DataFrame'>\n",
      "RangeIndex: 13075 entries, 0 to 13074\n",
      "Data columns (total 14 columns):\n",
      " #   Column             Non-Null Count  Dtype  \n",
      "---  ------             --------------  -----  \n",
      " 0   range_1_timestamp  13075 non-null  float64\n",
      " 1   timestamp_std_1    13075 non-null  float64\n",
      " 2   w_median_1         13075 non-null  float64\n",
      " 3   mad_1              13075 non-null  float64\n",
      " 4   mean_1             13075 non-null  float64\n",
      " 5   sum_std_1          13075 non-null  float64\n",
      " 6   range_timestamp_2  13075 non-null  float64\n",
      " 7   timestamp_std_2    13075 non-null  float64\n",
      " 8   w_median_2         13075 non-null  float64\n",
      " 9   mad_2              13075 non-null  float64\n",
      " 10  mean_2             13075 non-null  float64\n",
      " 11  sum_std_2          13075 non-null  float64\n",
      " 12  Weight_of_cat      13075 non-null  int32  \n",
      " 13  ele/non_ele        13075 non-null  int32  \n",
      "dtypes: float64(12), int32(2)\n",
      "memory usage: 1.3 MB\n"
     ]
    }
   ],
   "source": [
    "df3.info()"
   ]
  },
  {
   "cell_type": "markdown",
   "id": "87d2a938",
   "metadata": {},
   "source": [
    "# Correlation among features"
   ]
  },
  {
   "cell_type": "code",
   "execution_count": 50,
   "id": "6aeff5e1",
   "metadata": {
    "scrolled": true
   },
   "outputs": [
    {
     "data": {
      "text/plain": [
       "<AxesSubplot:>"
      ]
     },
     "execution_count": 50,
     "metadata": {},
     "output_type": "execute_result"
    },
    {
     "data": {
      "image/png": "[encoded data removed]",
      "text/plain": [
       "<Figure size 864x576 with 2 Axes>"
      ]
     },
     "metadata": {},
     "output_type": "display_data"
    }
   ],
   "source": [
    "plt.figure(figsize=(12,8))\n",
    "sns.heatmap(df3.corr()[df3.corr()>.8], cmap=\"Reds\",annot=True)"
   ]
  },
  {
   "cell_type": "code",
   "execution_count": 51,
   "id": "9ecf764f",
   "metadata": {},
   "outputs": [
    {
     "data": {
      "text/plain": [
       "range_1_timestamp    0.352743\n",
       "timestamp_std_1      0.350272\n",
       "w_median_1           0.097202\n",
       "mad_1               -0.289297\n",
       "mean_1               0.109330\n",
       "sum_std_1           -0.319411\n",
       "range_timestamp_2    0.251722\n",
       "timestamp_std_2      0.188035\n",
       "w_median_2           0.071726\n",
       "mad_2                0.043820\n",
       "mean_2               0.073451\n",
       "sum_std_2            0.086885\n",
       "Weight_of_cat        0.039080\n",
       "dtype: float64"
      ]
     },
     "execution_count": 51,
     "metadata": {},
     "output_type": "execute_result"
    }
   ],
   "source": [
    "numeric_cols=list(df3.select_dtypes([np.number]).columns)\n",
    "feature_importance=df3[numeric_cols].corrwith(other=df3['ele/non_ele'])\n",
    "feature_importance.drop(feature_importance.index[-1],inplace=True)\n",
    "feature_importance"
   ]
  },
  {
   "cell_type": "code",
   "execution_count": 52,
   "id": "27eaa626",
   "metadata": {},
   "outputs": [
    {
     "data": {
      "text/plain": [
       "Text(0.5, 0, 'Feature Importance')"
      ]
     },
     "execution_count": 52,
     "metadata": {},
     "output_type": "execute_result"
    },
    {
     "data": {
      "image/png": "[encoded data removed]",
      "text/plain": [
       "<Figure size 720x576 with 1 Axes>"
      ]
     },
     "metadata": {},
     "output_type": "display_data"
    }
   ],
   "source": [
    "#correlation coefficient of features with Target variable\n",
    "\n",
    "plt.figure(figsize=(10,8))\n",
    "sort = feature_importance.argsort()\n",
    "plt.barh(feature_importance.index[sort],feature_importance[sort])\n",
    "plt.xlabel('Feature Importance')"
   ]
  },
  {
   "cell_type": "markdown",
   "id": "d91e1691",
   "metadata": {},
   "source": [
    "# Creating Base models and compariosons for elimination and non-elimination"
   ]
  },
  {
   "cell_type": "markdown",
   "id": "22527d82",
   "metadata": {},
   "source": [
    "# 1.Logistic Regression"
   ]
  },
  {
   "cell_type": "code",
   "execution_count": 54,
   "id": "ad8568f5",
   "metadata": {},
   "outputs": [],
   "source": [
    "df3_X = df3.iloc[:, :-1].values\n",
    "df3_y = df3.iloc[:, -1].values"
   ]
  },
  {
   "cell_type": "code",
   "execution_count": 55,
   "id": "fdc878d5",
   "metadata": {},
   "outputs": [],
   "source": [
    "from sklearn.model_selection import train_test_split\n",
    "X_train_df3, X_test_df3, y_train_df3, y_test_df3 = train_test_split(df3_X, df3_y, test_size = 0.25, random_state = 0)"
   ]
  },
  {
   "cell_type": "code",
   "execution_count": 56,
   "id": "17c0220c",
   "metadata": {},
   "outputs": [],
   "source": [
    "from sklearn.preprocessing import StandardScaler\n",
    "sc = StandardScaler()\n",
    "X_train_df3 = sc.fit_transform(X_train_df3)\n",
    "X_test_df3 = sc.transform(X_test_df3)"
   ]
  },
  {
   "cell_type": "code",
   "execution_count": 57,
   "id": "20168dbb",
   "metadata": {},
   "outputs": [
    {
     "name": "stderr",
     "output_type": "stream",
     "text": [
      "C:\\Users\\pranoy.swain\\Anaconda3\\lib\\site-packages\\sklearn\\linear_model\\_logistic.py:814: ConvergenceWarning: lbfgs failed to converge (status=1):\n",
      "STOP: TOTAL NO. of ITERATIONS REACHED LIMIT.\n",
      "\n",
      "Increase the number of iterations (max_iter) or scale the data as shown in:\n",
      "    https://scikit-learn.org/stable/modules/preprocessing.html\n",
      "Please also refer to the documentation for alternative solver options:\n",
      "    https://scikit-learn.org/stable/modules/linear_model.html#logistic-regression\n",
      "  n_iter_i = _check_optimize_result(\n"
     ]
    },
    {
     "data": {
      "text/plain": [
       "LogisticRegression(random_state=0)"
      ]
     },
     "execution_count": 57,
     "metadata": {},
     "output_type": "execute_result"
    }
   ],
   "source": [
    "from sklearn.linear_model import LogisticRegression\n",
    "classifier = LogisticRegression(random_state = 0)\n",
    "classifier.fit(X_train_df3, y_train_df3)"
   ]
  },
  {
   "cell_type": "code",
   "execution_count": 58,
   "id": "66582417",
   "metadata": {},
   "outputs": [
    {
     "name": "stdout",
     "output_type": "stream",
     "text": [
      "[[1 1]\n",
      " [1 1]\n",
      " [1 1]\n",
      " ...\n",
      " [1 1]\n",
      " [1 1]\n",
      " [1 1]]\n"
     ]
    }
   ],
   "source": [
    "y_pred_df3 = classifier.predict(X_test_df3)\n",
    "print(np.concatenate((y_pred_df3.reshape(len(y_pred_df3),1), y_test_df3.reshape(len(y_test_df3),1)),1))"
   ]
  },
  {
   "cell_type": "code",
   "execution_count": 59,
   "id": "47346eb8",
   "metadata": {},
   "outputs": [
    {
     "name": "stdout",
     "output_type": "stream",
     "text": [
      "[[ 504  548]\n",
      " [ 148 2069]]\n"
     ]
    },
    {
     "data": {
      "text/plain": [
       "0.7870908534720098"
      ]
     },
     "execution_count": 59,
     "metadata": {},
     "output_type": "execute_result"
    }
   ],
   "source": [
    "from sklearn.metrics import confusion_matrix, accuracy_score\n",
    "cm_df3 = confusion_matrix(y_test_df3, y_pred_df3)\n",
    "print(cm_df3)\n",
    "accuracy_score(y_test_df3, y_pred_df3)"
   ]
  },
  {
   "cell_type": "code",
   "execution_count": 60,
   "id": "8f67796a",
   "metadata": {},
   "outputs": [
    {
     "name": "stdout",
     "output_type": "stream",
     "text": [
      "              precision    recall  f1-score   support\n",
      "\n",
      "           0       0.77      0.48      0.59      1052\n",
      "           1       0.79      0.93      0.86      2217\n",
      "\n",
      "    accuracy                           0.79      3269\n",
      "   macro avg       0.78      0.71      0.72      3269\n",
      "weighted avg       0.78      0.79      0.77      3269\n",
      "\n"
     ]
    }
   ],
   "source": [
    "from sklearn.metrics import classification_report\n",
    "print(classification_report(y_test_df3, y_pred_df3))"
   ]
  },
  {
   "cell_type": "code",
   "execution_count": 61,
   "id": "230f185c",
   "metadata": {},
   "outputs": [],
   "source": [
    "sns.set(rc={'figure.figsize':(8,5)})"
   ]
  },
  {
   "cell_type": "code",
   "execution_count": 62,
   "id": "bca2772b",
   "metadata": {
    "scrolled": true
   },
   "outputs": [
    {
     "data": {
      "text/plain": [
       "<AxesSubplot:>"
      ]
     },
     "execution_count": 62,
     "metadata": {},
     "output_type": "execute_result"
    },
    {
     "data": {
      "image/png": "[encoded data removed]",
      "text/plain": [
       "<Figure size 576x360 with 2 Axes>"
      ]
     },
     "metadata": {},
     "output_type": "display_data"
    }
   ],
   "source": [
    "sns.heatmap(cm_df3, annot = True)"
   ]
  },
  {
   "cell_type": "markdown",
   "id": "6428e06d",
   "metadata": {},
   "source": [
    "# 2.KNN"
   ]
  },
  {
   "cell_type": "code",
   "execution_count": 102,
   "id": "d3c19b9e",
   "metadata": {},
   "outputs": [
    {
     "data": {
      "text/plain": [
       "KNeighborsClassifier(n_neighbors=1000)"
      ]
     },
     "execution_count": 102,
     "metadata": {},
     "output_type": "execute_result"
    }
   ],
   "source": [
    "from sklearn.neighbors import KNeighborsClassifier\n",
    "knn_classifier_df3 = KNeighborsClassifier(n_neighbors = 1000, metric = 'minkowski', p = 2)\n",
    "knn_classifier_df3.fit(X_train_df3, y_train_df3)"
   ]
  },
  {
   "cell_type": "code",
   "execution_count": 103,
   "id": "b90fd606",
   "metadata": {
    "scrolled": true
   },
   "outputs": [
    {
     "name": "stdout",
     "output_type": "stream",
     "text": [
      "[[1 1]\n",
      " [1 1]\n",
      " [1 1]\n",
      " ...\n",
      " [1 1]\n",
      " [1 1]\n",
      " [1 1]]\n"
     ]
    }
   ],
   "source": [
    "y_pred_knn_df3 = classifier.predict(X_test_df3)\n",
    "print(np.concatenate((y_pred_knn_df3.reshape(len(y_pred_knn_df3),1), y_test_df3.reshape(len(y_test_df3),1)),1))"
   ]
  },
  {
   "cell_type": "code",
   "execution_count": 104,
   "id": "13397910",
   "metadata": {},
   "outputs": [
    {
     "name": "stdout",
     "output_type": "stream",
     "text": [
      "[[ 504  548]\n",
      " [ 148 2069]]\n"
     ]
    },
    {
     "data": {
      "text/plain": [
       "0.7870908534720098"
      ]
     },
     "execution_count": 104,
     "metadata": {},
     "output_type": "execute_result"
    }
   ],
   "source": [
    "cm_knn_df3 = confusion_matrix(y_test_df3, y_pred_knn_df3)\n",
    "print(cm_knn_df3)\n",
    "accuracy_score(y_test_df3, y_pred_knn_df3)"
   ]
  },
  {
   "cell_type": "code",
   "execution_count": 105,
   "id": "df230334",
   "metadata": {
    "scrolled": true
   },
   "outputs": [
    {
     "name": "stdout",
     "output_type": "stream",
     "text": [
      "              precision    recall  f1-score   support\n",
      "\n",
      "           0       0.77      0.48      0.59      1052\n",
      "           1       0.79      0.93      0.86      2217\n",
      "\n",
      "    accuracy                           0.79      3269\n",
      "   macro avg       0.78      0.71      0.72      3269\n",
      "weighted avg       0.78      0.79      0.77      3269\n",
      "\n"
     ]
    }
   ],
   "source": [
    "print(classification_report(y_test_df3, y_pred_knn_df3))"
   ]
  },
  {
   "cell_type": "markdown",
   "id": "5de8be09",
   "metadata": {},
   "source": [
    "# 3.Random Forest"
   ]
  },
  {
   "cell_type": "code",
   "execution_count": 97,
   "id": "22011ae2",
   "metadata": {},
   "outputs": [
    {
     "data": {
      "text/plain": [
       "RandomForestClassifier(criterion='entropy', n_estimators=9000, random_state=0)"
      ]
     },
     "execution_count": 97,
     "metadata": {},
     "output_type": "execute_result"
    }
   ],
   "source": [
    "from sklearn.ensemble import RandomForestClassifier\n",
    "rf_classifier_df3 = RandomForestClassifier(n_estimators = 9000, criterion = 'entropy', random_state = 0)\n",
    "rf_classifier_df3.fit(X_train_df3, y_train_df3)"
   ]
  },
  {
   "cell_type": "code",
   "execution_count": 98,
   "id": "8d31f573",
   "metadata": {},
   "outputs": [
    {
     "name": "stdout",
     "output_type": "stream",
     "text": [
      "[[1 1]\n",
      " [1 1]\n",
      " [1 1]\n",
      " ...\n",
      " [0 1]\n",
      " [1 1]\n",
      " [1 1]]\n"
     ]
    }
   ],
   "source": [
    "y_pred_rf_df3 = rf_classifier_df3.predict(X_test_df3)\n",
    "print(np.concatenate((y_pred_rf_df3.reshape(len(y_pred_rf_df3),1), y_test_df3.reshape(len(y_test_df3),1)),1))"
   ]
  },
  {
   "cell_type": "code",
   "execution_count": 99,
   "id": "df243423",
   "metadata": {},
   "outputs": [
    {
     "name": "stdout",
     "output_type": "stream",
     "text": [
      "[[ 700  352]\n",
      " [ 101 2116]]\n"
     ]
    },
    {
     "data": {
      "text/plain": [
       "0.8614255123891098"
      ]
     },
     "execution_count": 99,
     "metadata": {},
     "output_type": "execute_result"
    }
   ],
   "source": [
    "from sklearn.metrics import confusion_matrix, accuracy_score\n",
    "cm_rf_df3 = confusion_matrix(y_test_df3, y_pred_rf_df3)\n",
    "print(cm_rf_df3)\n",
    "accuracy_score(y_test_df3, y_pred_rf_df3)"
   ]
  },
  {
   "cell_type": "code",
   "execution_count": 100,
   "id": "fadc01ee",
   "metadata": {},
   "outputs": [
    {
     "data": {
      "text/plain": [
       "<AxesSubplot:>"
      ]
     },
     "execution_count": 100,
     "metadata": {},
     "output_type": "execute_result"
    },
    {
     "data": {
      "image/png": "[encoded data removed]",
      "text/plain": [
       "<Figure size 576x360 with 2 Axes>"
      ]
     },
     "metadata": {},
     "output_type": "display_data"
    }
   ],
   "source": [
    "sns.heatmap(cm_rf_df3, annot = True)"
   ]
  },
  {
   "cell_type": "code",
   "execution_count": 101,
   "id": "fd595715",
   "metadata": {},
   "outputs": [
    {
     "name": "stdout",
     "output_type": "stream",
     "text": [
      "              precision    recall  f1-score   support\n",
      "\n",
      "           0       0.87      0.67      0.76      1052\n",
      "           1       0.86      0.95      0.90      2217\n",
      "\n",
      "    accuracy                           0.86      3269\n",
      "   macro avg       0.87      0.81      0.83      3269\n",
      "weighted avg       0.86      0.86      0.86      3269\n",
      "\n"
     ]
    }
   ],
   "source": [
    "print(classification_report(y_test_df3, y_pred_rf_df3))"
   ]
  },
  {
   "cell_type": "code",
   "execution_count": null,
   "id": "ff914e67",
   "metadata": {},
   "outputs": [],
   "source": []
  }
 ],
 "metadata": {
  "kernelspec": {
   "display_name": "Python 3 (ipykernel)",
   "language": "python",
   "name": "python3"
  },
  "language_info": {
   "codemirror_mode": {
    "name": "ipython",
    "version": 3
   },
   "file_extension": ".py",
   "mimetype": "text/x-python",
   "name": "python",
   "nbconvert_exporter": "python",
   "pygments_lexer": "ipython3",
   "version": "3.9.12"
  }
 },
 "nbformat": 4,
 "nbformat_minor": 5
}
